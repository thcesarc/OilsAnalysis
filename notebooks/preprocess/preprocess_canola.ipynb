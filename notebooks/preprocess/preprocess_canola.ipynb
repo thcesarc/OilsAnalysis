{
 "cells": [
  {
   "metadata": {},
   "cell_type": "markdown",
   "source": "#### Imports",
   "id": "72e552c00f447386"
  },
  {
   "cell_type": "code",
   "id": "initial_id",
   "metadata": {
    "collapsed": true,
    "ExecuteTime": {
     "end_time": "2024-10-29T13:05:41.127504Z",
     "start_time": "2024-10-29T13:05:39.523641Z"
    }
   },
   "source": [
    "import os\n",
    "import re\n",
    "import skrf as rf\n",
    "import pandas as pd"
   ],
   "outputs": [],
   "execution_count": 1
  },
  {
   "metadata": {},
   "cell_type": "markdown",
   "source": "#### Paths",
   "id": "a648914a7d62e301"
  },
  {
   "metadata": {
    "ExecuteTime": {
     "end_time": "2024-10-29T13:05:41.135671Z",
     "start_time": "2024-10-29T13:05:41.127504Z"
    }
   },
   "cell_type": "code",
   "source": [
    "script_directory = os.getcwd()#obtem diretório atual\n",
    "s2ps_path = os.path.join(script_directory, 'oil_data','oil_data') #cria string caminho para todos os .s2p"
   ],
   "id": "ce5b1b2db8906c6d",
   "outputs": [],
   "execution_count": 2
  },
  {
   "metadata": {},
   "cell_type": "markdown",
   "source": "#### Regex = hell",
   "id": "13c3bb9d48c2ad0a"
  },
  {
   "metadata": {
    "ExecuteTime": {
     "end_time": "2024-10-29T13:05:41.225659Z",
     "start_time": "2024-10-29T13:05:41.217602Z"
    }
   },
   "cell_type": "code",
   "source": "regex = r'SAW_06_02_2024_OIL_CANOLA_(\\d+)\\.S2P'",
   "id": "12a97a9cae9354dc",
   "outputs": [],
   "execution_count": 3
  },
  {
   "metadata": {
    "ExecuteTime": {
     "end_time": "2024-10-29T13:05:41.244657Z",
     "start_time": "2024-10-29T13:05:41.235301Z"
    }
   },
   "cell_type": "code",
   "source": [
    "def read_s2p_vegetal_data(regex, path):\n",
    "    dfs = []#lista para ocncatenar todos os dicts de cada medição \n",
    "    for filename in os.listdir(path):\n",
    "        match = re.match(regex, filename)\n",
    "        if match:\n",
    "            #obtem informação do nome do arquivo\n",
    "            oil_name = \"CANOLA\"\n",
    "            measurement_number = int(match.group(1))\n",
    "            \n",
    "            #carrega arquivo\n",
    "            path_to_oil = os.path.join(path, filename)\n",
    "            s2p_file = rf.Network(path_to_oil)\n",
    "            \n",
    "            #extrai frequência e parâmetros S do objeto Network\n",
    "            frequency = s2p_file.f\n",
    "            s_parameters = s2p_file.s_db\n",
    "            \n",
    "            #Dataframe com informações do objeto Network\n",
    "            individual_oil_dict = {\n",
    "                'OIL NAME': oil_name,\n",
    "                'MEASUREMENT NUMBER': measurement_number,\n",
    "                'FREQUENCY (MHZ)':frequency/1000000,\n",
    "                'S11 (db)' : s_parameters[:,0,0],\n",
    "                'S21 (db)' : s_parameters[:,1,0],\n",
    "                'S12 (db)' : s_parameters[:,0,1],\n",
    "                'S22 (db)' : s_parameters[:,1,1],\n",
    "            }\n",
    "            df = pd.DataFrame.from_dict(individual_oil_dict)\n",
    "            dfs.append(df)\n",
    "            \n",
    "    dataframe = pd.concat(dfs, ignore_index=True)\n",
    "    return dataframe"
   ],
   "id": "bf11a9b51417b9b8",
   "outputs": [],
   "execution_count": 4
  },
  {
   "metadata": {},
   "cell_type": "markdown",
   "source": "#### Read Dataframes",
   "id": "383cb83e11babedf"
  },
  {
   "metadata": {
    "ExecuteTime": {
     "end_time": "2024-10-29T13:05:41.397812Z",
     "start_time": "2024-10-29T13:05:41.254765Z"
    }
   },
   "cell_type": "code",
   "source": "df_vegetal = read_s2p_vegetal_data(regex, s2ps_path)",
   "id": "f6f165c36a0897e4",
   "outputs": [],
   "execution_count": 5
  },
  {
   "metadata": {
    "ExecuteTime": {
     "end_time": "2024-10-29T13:05:41.429303Z",
     "start_time": "2024-10-29T13:05:41.411507Z"
    }
   },
   "cell_type": "code",
   "source": "df_vegetal.info",
   "id": "75ca2723a2976681",
   "outputs": [
    {
     "data": {
      "text/plain": [
       "<bound method DataFrame.info of       OIL NAME  MEASUREMENT NUMBER  FREQUENCY (MHZ)  S11 (db)  S21 (db)  \\\n",
       "0       CANOLA                   1       110.000000 -0.939643 -74.32262   \n",
       "1       CANOLA                   1       110.002000 -0.939678 -83.86302   \n",
       "2       CANOLA                   1       110.004000 -0.939612 -75.45787   \n",
       "3       CANOLA                   1       110.006001 -0.938919 -79.45680   \n",
       "4       CANOLA                   1       110.008001 -0.938572 -79.10075   \n",
       "...        ...                 ...              ...       ...       ...   \n",
       "29995   CANOLA                   3       129.991999 -1.224063 -69.69292   \n",
       "29996   CANOLA                   3       129.993999 -1.224219 -70.35383   \n",
       "29997   CANOLA                   3       129.996000 -1.223880 -70.20517   \n",
       "29998   CANOLA                   3       129.998000 -1.225183 -68.79918   \n",
       "29999   CANOLA                   3       130.000000 -1.225674 -67.78519   \n",
       "\n",
       "       S12 (db)  S22 (db)  \n",
       "0     -77.85377 -1.185256  \n",
       "1     -80.70225 -1.181959  \n",
       "2     -78.17882 -1.186704  \n",
       "3     -78.82480 -1.188116  \n",
       "4     -79.58153 -1.185028  \n",
       "...         ...       ...  \n",
       "29995 -70.39848 -1.434456  \n",
       "29996 -70.40817 -1.433079  \n",
       "29997 -68.26717 -1.433220  \n",
       "29998 -69.52516 -1.432365  \n",
       "29999 -67.58006 -1.432744  \n",
       "\n",
       "[30000 rows x 7 columns]>"
      ]
     },
     "execution_count": 6,
     "metadata": {},
     "output_type": "execute_result"
    }
   ],
   "execution_count": 6
  },
  {
   "metadata": {
    "ExecuteTime": {
     "end_time": "2024-10-29T13:05:41.461714Z",
     "start_time": "2024-10-29T13:05:41.442884Z"
    }
   },
   "cell_type": "code",
   "source": [
    "#assegura somente óleo de girassol lido\n",
    "for name in df_vegetal[\"OIL NAME\"]:\n",
    "    if name != \"CANOLA\":\n",
    "        print(\"Diferente de canola\")"
   ],
   "id": "2642571febd29b76",
   "outputs": [],
   "execution_count": 7
  },
  {
   "metadata": {
    "ExecuteTime": {
     "end_time": "2024-10-29T13:05:41.686879Z",
     "start_time": "2024-10-29T13:05:41.481745Z"
    }
   },
   "cell_type": "code",
   "source": [
    "#cria .csv caso precise no futuro.\n",
    "path_save_csv = os.path.join(script_directory, 'oil_data','oil_data','CSVs')\n",
    "if not os.path.exists(path_save_csv):\n",
    "   os.makedirs(path_save_csv)\n",
    "df_vegetal.to_csv(path_save_csv + '/canola_measurements.csv')"
   ],
   "id": "efa52a6edcc00df7",
   "outputs": [],
   "execution_count": 8
  },
  {
   "metadata": {
    "ExecuteTime": {
     "end_time": "2024-10-29T13:05:41.707841Z",
     "start_time": "2024-10-29T13:05:41.701806Z"
    }
   },
   "cell_type": "code",
   "source": [
    "def average_measurements(dataframe):\n",
    "    #agrupa valores por frequência e calcula média do que interessa\n",
    "    return dataframe.groupby('FREQUENCY (MHZ)', as_index=False)['S21 (db)'].mean()"
   ],
   "id": "715ba63364ad15be",
   "outputs": [],
   "execution_count": 9
  },
  {
   "metadata": {
    "ExecuteTime": {
     "end_time": "2024-10-29T13:05:41.732456Z",
     "start_time": "2024-10-29T13:05:41.720624Z"
    }
   },
   "cell_type": "code",
   "source": "df_canola_s21 = average_measurements(df_vegetal)",
   "id": "297aaa76ab2db707",
   "outputs": [],
   "execution_count": 10
  },
  {
   "metadata": {
    "ExecuteTime": {
     "end_time": "2024-10-29T13:05:41.757382Z",
     "start_time": "2024-10-29T13:05:41.746393Z"
    }
   },
   "cell_type": "code",
   "source": "df_canola_s21.info\n",
   "id": "9ddeac11d9505600",
   "outputs": [
    {
     "data": {
      "text/plain": [
       "<bound method DataFrame.info of       FREQUENCY (MHZ)   S21 (db)\n",
       "0          110.000000 -77.238280\n",
       "1          110.002000 -81.705140\n",
       "2          110.004000 -77.912783\n",
       "3          110.006001 -77.498673\n",
       "4          110.008001 -79.490893\n",
       "...               ...        ...\n",
       "9995       129.991999 -69.731563\n",
       "9996       129.993999 -69.206113\n",
       "9997       129.996000 -69.564280\n",
       "9998       129.998000 -68.434813\n",
       "9999       130.000000 -67.619743\n",
       "\n",
       "[10000 rows x 2 columns]>"
      ]
     },
     "execution_count": 11,
     "metadata": {},
     "output_type": "execute_result"
    }
   ],
   "execution_count": 11
  },
  {
   "metadata": {
    "ExecuteTime": {
     "end_time": "2024-10-29T13:05:42.009324Z",
     "start_time": "2024-10-29T13:05:41.837452Z"
    }
   },
   "cell_type": "code",
   "source": [
    "#cria .csv caso precise no futuro.\n",
    "path_save_csv_processed = os.path.join(script_directory, 'oil_data','oil_data','CSVs','processed')\n",
    "if not os.path.exists(path_save_csv_processed):\n",
    "   os.makedirs(path_save_csv_processed)\n",
    "df_vegetal.to_csv(path_save_csv_processed + '/canola_measurements_processed.csv')"
   ],
   "id": "ca1f371ae383db4b",
   "outputs": [],
   "execution_count": 12
  }
 ],
 "metadata": {
  "kernelspec": {
   "display_name": "Python 3",
   "language": "python",
   "name": "python3"
  },
  "language_info": {
   "codemirror_mode": {
    "name": "ipython",
    "version": 2
   },
   "file_extension": ".py",
   "mimetype": "text/x-python",
   "name": "python",
   "nbconvert_exporter": "python",
   "pygments_lexer": "ipython2",
   "version": "2.7.6"
  }
 },
 "nbformat": 4,
 "nbformat_minor": 5
}
