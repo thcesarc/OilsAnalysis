{
 "cells": [
  {
   "metadata": {},
   "cell_type": "markdown",
   "source": "Import libs",
   "id": "d7ad00c7505c3487"
  },
  {
   "cell_type": "code",
   "id": "initial_id",
   "metadata": {
    "collapsed": true,
    "ExecuteTime": {
     "end_time": "2024-11-01T12:19:17.487529Z",
     "start_time": "2024-11-01T12:19:17.438401Z"
    }
   },
   "source": [
    "import pandas as pd\n",
    "import os"
   ],
   "outputs": [],
   "execution_count": 13
  },
  {
   "metadata": {},
   "cell_type": "markdown",
   "source": "Path localization",
   "id": "1dae3422b3148e3a"
  },
  {
   "metadata": {
    "ExecuteTime": {
     "end_time": "2024-11-01T12:19:17.506049Z",
     "start_time": "2024-11-01T12:19:17.495398Z"
    }
   },
   "cell_type": "code",
   "source": [
    "scrip_directory = os.getcwd()\n",
    "path_to_csv_dir = os.path.join(scrip_directory, '..', '..', 'oil_data', 'oil_data', 'CSVs')"
   ],
   "id": "5c9ec7fe358f8c23",
   "outputs": [],
   "execution_count": 14
  },
  {
   "metadata": {},
   "cell_type": "markdown",
   "source": "File read",
   "id": "745ae5c39fb975f3"
  },
  {
   "metadata": {
    "ExecuteTime": {
     "end_time": "2024-11-01T12:19:17.598109Z",
     "start_time": "2024-11-01T12:19:17.558062Z"
    }
   },
   "cell_type": "code",
   "source": [
    "dfs = [] #empty list for DFs\n",
    "for filename in os.listdir(path_to_csv_dir):\n",
    "    path_to_csv_file = os.path.join(path_to_csv_dir, filename)\n",
    "    df = pd.read_csv(path_to_csv_file,index_col=0)\n",
    "    dfs.append(df)"
   ],
   "id": "5487a225bf07d720",
   "outputs": [],
   "execution_count": 15
  },
  {
   "metadata": {
    "ExecuteTime": {
     "end_time": "2024-11-01T12:19:17.627911Z",
     "start_time": "2024-11-01T12:19:17.618761Z"
    }
   },
   "cell_type": "code",
   "source": "unified_df = pd.concat(dfs, ignore_index=True)",
   "id": "b5628c2b6f0d704",
   "outputs": [],
   "execution_count": 16
  },
  {
   "metadata": {
    "ExecuteTime": {
     "end_time": "2024-11-01T12:19:17.672316Z",
     "start_time": "2024-11-01T12:19:17.658055Z"
    }
   },
   "cell_type": "code",
   "source": "unified_df.info",
   "id": "3d1564d70319421b",
   "outputs": [
    {
     "data": {
      "text/plain": [
       "<bound method DataFrame.info of     OIL NAME   OIL TYPE  MEASUREMENT NUMBER  FREQUENCY (MHZ)  S21 (db)  \\\n",
       "0      10W40  SYNTHETIC                   1       118.872887 -62.33633   \n",
       "1      10W40  SYNTHETIC                   1       118.870887 -62.35868   \n",
       "2      10W40  SYNTHETIC                   1       118.878888 -62.45934   \n",
       "3      10W40  SYNTHETIC                   2       118.874887 -61.89230   \n",
       "4      10W40  SYNTHETIC                   2       118.878888 -61.90285   \n",
       "..       ...        ...                 ...              ...       ...   \n",
       "76  TRAFO 46    MINERAL                   2       118.890889 -47.97822   \n",
       "77  TRAFO 46    MINERAL                   2       118.882888 -47.98780   \n",
       "78  TRAFO 46    MINERAL                   3       118.892889 -47.97227   \n",
       "79  TRAFO 46    MINERAL                   3       118.950895 -48.01999   \n",
       "80  TRAFO 46    MINERAL                   3       118.936894 -48.03017   \n",
       "\n",
       "    PHASE (DEG)  \n",
       "0      175.5200  \n",
       "1     -178.2246  \n",
       "2      172.3324  \n",
       "3     -178.6109  \n",
       "4      171.6235  \n",
       "..          ...  \n",
       "76    -144.0774  \n",
       "77    -139.4882  \n",
       "78    -145.6281  \n",
       "79     175.6757  \n",
       "80    -174.3263  \n",
       "\n",
       "[81 rows x 6 columns]>"
      ]
     },
     "execution_count": 17,
     "metadata": {},
     "output_type": "execute_result"
    }
   ],
   "execution_count": 17
  },
  {
   "metadata": {},
   "cell_type": "markdown",
   "source": "Save .CSV file",
   "id": "8a93fe8d3d06dc3c"
  },
  {
   "metadata": {
    "ExecuteTime": {
     "end_time": "2024-11-01T12:19:17.767916Z",
     "start_time": "2024-11-01T12:19:17.753509Z"
    }
   },
   "cell_type": "code",
   "source": "unified_df.to_csv(path_to_csv_dir+'/unified_data.csv')",
   "id": "4560b189f6b9708b",
   "outputs": [],
   "execution_count": 18
  }
 ],
 "metadata": {
  "kernelspec": {
   "display_name": "Python 3",
   "language": "python",
   "name": "python3"
  },
  "language_info": {
   "codemirror_mode": {
    "name": "ipython",
    "version": 2
   },
   "file_extension": ".py",
   "mimetype": "text/x-python",
   "name": "python",
   "nbconvert_exporter": "python",
   "pygments_lexer": "ipython2",
   "version": "2.7.6"
  }
 },
 "nbformat": 4,
 "nbformat_minor": 5
}
