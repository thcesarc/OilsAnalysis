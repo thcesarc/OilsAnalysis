{
 "cells": [
  {
   "metadata": {},
   "cell_type": "markdown",
   "source": [
    "localizar dados\n",
    "ler dados em DFs\n",
    "concatenar todos os dados\n",
    "criar novo csv"
   ],
   "id": "c18e8486b5466c18"
  },
  {
   "metadata": {},
   "cell_type": "markdown",
   "source": "Import libs",
   "id": "d7ad00c7505c3487"
  },
  {
   "cell_type": "code",
   "id": "initial_id",
   "metadata": {
    "collapsed": true,
    "ExecuteTime": {
     "end_time": "2024-10-31T19:23:47.695349Z",
     "start_time": "2024-10-31T19:23:47.665793Z"
    }
   },
   "source": [
    "import pandas as pd\n",
    "import os"
   ],
   "outputs": [],
   "execution_count": 7
  },
  {
   "metadata": {},
   "cell_type": "markdown",
   "source": "Path localization",
   "id": "1dae3422b3148e3a"
  },
  {
   "metadata": {
    "ExecuteTime": {
     "end_time": "2024-10-31T19:23:47.713516Z",
     "start_time": "2024-10-31T19:23:47.704551Z"
    }
   },
   "cell_type": "code",
   "source": [
    "scrip_directory = os.getcwd()\n",
    "path_to_csv_dir = os.path.join(scrip_directory, '..', '..', 'oil_data', 'oil_data', 'CSVs')"
   ],
   "id": "5c9ec7fe358f8c23",
   "outputs": [],
   "execution_count": 8
  },
  {
   "metadata": {},
   "cell_type": "markdown",
   "source": "File read",
   "id": "745ae5c39fb975f3"
  },
  {
   "metadata": {
    "ExecuteTime": {
     "end_time": "2024-10-31T19:23:47.832509Z",
     "start_time": "2024-10-31T19:23:47.801119Z"
    }
   },
   "cell_type": "code",
   "source": [
    "dfs = [] #empty list for DFs\n",
    "for filename in os.listdir(path_to_csv_dir):\n",
    "    path_to_csv_file = os.path.join(path_to_csv_dir, filename)\n",
    "    df = pd.read_csv(path_to_csv_file,index_col=0)\n",
    "    dfs.append(df)"
   ],
   "id": "5487a225bf07d720",
   "outputs": [],
   "execution_count": 9
  },
  {
   "metadata": {
    "ExecuteTime": {
     "end_time": "2024-10-31T19:23:47.876101Z",
     "start_time": "2024-10-31T19:23:47.864691Z"
    }
   },
   "cell_type": "code",
   "source": "unified_df = pd.concat(dfs, ignore_index=True)",
   "id": "b5628c2b6f0d704",
   "outputs": [],
   "execution_count": 10
  },
  {
   "metadata": {
    "ExecuteTime": {
     "end_time": "2024-10-31T19:23:47.935314Z",
     "start_time": "2024-10-31T19:23:47.918659Z"
    }
   },
   "cell_type": "code",
   "source": "unified_df.info",
   "id": "3d1564d70319421b",
   "outputs": [
    {
     "data": {
      "text/plain": [
       "<bound method DataFrame.info of     OIL NAME  MEASUREMENT NUMBER  FREQUENCY (MHZ)  S21 (db)  PHASE (DEG)\n",
       "0      10W40                   1       118.872887 -62.33633     175.5200\n",
       "1      10W40                   1       118.870887 -62.35868    -178.2246\n",
       "2      10W40                   1       118.878888 -62.45934     172.3324\n",
       "3      10W40                   2       118.874887 -61.89230    -178.6109\n",
       "4      10W40                   2       118.878888 -61.90285     171.6235\n",
       "..       ...                 ...              ...       ...          ...\n",
       "76  TRAFO 46                   2       118.890889 -47.97822    -144.0774\n",
       "77  TRAFO 46                   2       118.882888 -47.98780    -139.4882\n",
       "78  TRAFO 46                   3       118.892889 -47.97227    -145.6281\n",
       "79  TRAFO 46                   3       118.950895 -48.01999     175.6757\n",
       "80  TRAFO 46                   3       118.936894 -48.03017    -174.3263\n",
       "\n",
       "[81 rows x 5 columns]>"
      ]
     },
     "execution_count": 11,
     "metadata": {},
     "output_type": "execute_result"
    }
   ],
   "execution_count": 11
  },
  {
   "metadata": {},
   "cell_type": "markdown",
   "source": "Save .CSV file",
   "id": "8a93fe8d3d06dc3c"
  },
  {
   "metadata": {
    "ExecuteTime": {
     "end_time": "2024-10-31T19:23:48.028521Z",
     "start_time": "2024-10-31T19:23:48.017643Z"
    }
   },
   "cell_type": "code",
   "source": "unified_df.to_csv(path_to_csv_dir+'/unified_data.csv')",
   "id": "4560b189f6b9708b",
   "outputs": [],
   "execution_count": 12
  }
 ],
 "metadata": {
  "kernelspec": {
   "display_name": "Python 3",
   "language": "python",
   "name": "python3"
  },
  "language_info": {
   "codemirror_mode": {
    "name": "ipython",
    "version": 2
   },
   "file_extension": ".py",
   "mimetype": "text/x-python",
   "name": "python",
   "nbconvert_exporter": "python",
   "pygments_lexer": "ipython2",
   "version": "2.7.6"
  }
 },
 "nbformat": 4,
 "nbformat_minor": 5
}
