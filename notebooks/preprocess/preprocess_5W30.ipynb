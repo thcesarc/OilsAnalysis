{
 "cells": [
  {
   "metadata": {},
   "cell_type": "markdown",
   "source": [
    "## This notebook:\n",
    "### reads three .S2P file from three measurements of 5W30  synthetic oil;\n",
    "### creates a DataFrame pandas object from the info of .S2P file\n",
    "### selects the desired features and saves a .CSV file.\n"
   ],
   "id": "8abb6198a17d1ca8"
  },
  {
   "metadata": {},
   "cell_type": "markdown",
   "source": "#### Imports",
   "id": "72e552c00f447386"
  },
  {
   "cell_type": "code",
   "id": "initial_id",
   "metadata": {
    "collapsed": true,
    "ExecuteTime": {
     "end_time": "2024-10-31T19:20:51.726080Z",
     "start_time": "2024-10-31T19:20:51.716974Z"
    }
   },
   "source": [
    "import os\n",
    "import re\n",
    "import skrf as rf\n",
    "import pandas as pd"
   ],
   "outputs": [],
   "execution_count": 11
  },
  {
   "metadata": {},
   "cell_type": "markdown",
   "source": "#### Paths",
   "id": "a648914a7d62e301"
  },
  {
   "metadata": {
    "ExecuteTime": {
     "end_time": "2024-10-31T19:20:51.760807Z",
     "start_time": "2024-10-31T19:20:51.749567Z"
    }
   },
   "cell_type": "code",
   "source": [
    "script_directory = os.getcwd()#obtem diretório atual\n",
    "s2ps_path = os.path.join(script_directory,'..','..','oil_data','oil_data') #cria string caminho para todos os .s2p"
   ],
   "id": "ce5b1b2db8906c6d",
   "outputs": [],
   "execution_count": 12
  },
  {
   "metadata": {},
   "cell_type": "markdown",
   "source": "#### Regex",
   "id": "13c3bb9d48c2ad0a"
  },
  {
   "metadata": {
    "ExecuteTime": {
     "end_time": "2024-10-31T19:20:51.782368Z",
     "start_time": "2024-10-31T19:20:51.776374Z"
    }
   },
   "cell_type": "code",
   "source": "regex = r'SAW_06_02_2024_OIL_5W30_(\\d+)\\.S2P'",
   "id": "12a97a9cae9354dc",
   "outputs": [],
   "execution_count": 13
  },
  {
   "metadata": {
    "ExecuteTime": {
     "end_time": "2024-10-31T19:20:51.826330Z",
     "start_time": "2024-10-31T19:20:51.802797Z"
    }
   },
   "cell_type": "code",
   "source": [
    "def read_s2p_data(regex, path):\n",
    "    dfs = []#lista para ocncatenar todos os dicts de cada medição \n",
    "    for filename in os.listdir(path):\n",
    "        match = re.match(regex, filename)\n",
    "        if match:\n",
    "            #obtem informação do nome do arquivo\n",
    "            oil_name = \"5W30\"\n",
    "            measurement_number = int(match.group(1))\n",
    "            \n",
    "            #carrega arquivo\n",
    "            path_to_oil = os.path.join(path, filename)\n",
    "            s2p_file = rf.Network(path_to_oil)\n",
    "            \n",
    "            #extrai frequência, parâmetro S21 e fase do objeto Network\n",
    "            frequency = s2p_file.f\n",
    "            s_parameters = s2p_file.s_db[:,1,0]\n",
    "            phase = s2p_file.s_deg[:,1,0]\n",
    "            \n",
    "            #Dataframe com informações selecionadas\n",
    "            individual_oil_dict = {\n",
    "                'OIL NAME': oil_name,\n",
    "                'MEASUREMENT NUMBER': measurement_number,\n",
    "                'FREQUENCY (MHZ)':frequency/1000000,\n",
    "                'S21 (db)' : s_parameters,\n",
    "                'PHASE (DEG)': phase,\n",
    "            }\n",
    "            df = pd.DataFrame.from_dict(individual_oil_dict)\n",
    "            df = df.nlargest(3, 'S21 (db)')\n",
    "            dfs.append(df)\n",
    "            \n",
    "    dataframe = pd.concat(dfs, ignore_index=True)\n",
    "    return dataframe"
   ],
   "id": "bf11a9b51417b9b8",
   "outputs": [],
   "execution_count": 14
  },
  {
   "metadata": {},
   "cell_type": "markdown",
   "source": "#### Read Dataframes",
   "id": "383cb83e11babedf"
  },
  {
   "metadata": {
    "ExecuteTime": {
     "end_time": "2024-10-31T19:20:52.150622Z",
     "start_time": "2024-10-31T19:20:51.849374Z"
    }
   },
   "cell_type": "code",
   "source": "df_synthetic = read_s2p_data(regex, s2ps_path)",
   "id": "f6f165c36a0897e4",
   "outputs": [],
   "execution_count": 15
  },
  {
   "metadata": {
    "ExecuteTime": {
     "end_time": "2024-10-31T19:20:52.194906Z",
     "start_time": "2024-10-31T19:20:52.177559Z"
    }
   },
   "cell_type": "code",
   "source": "df_synthetic.info",
   "id": "75ca2723a2976681",
   "outputs": [
    {
     "data": {
      "text/plain": [
       "<bound method DataFrame.info of   OIL NAME  MEASUREMENT NUMBER  FREQUENCY (MHZ)  S21 (db)  PHASE (DEG)\n",
       "0     5W30                   1       118.872887 -57.27288    -162.4664\n",
       "1     5W30                   1       118.888889 -57.45019    -173.8333\n",
       "2     5W30                   1       118.890889 -57.45746    -173.8878\n",
       "3     5W30                   2       118.888889 -56.54844    -175.7385\n",
       "4     5W30                   2       118.892889 -56.77471    -176.5249\n",
       "5     5W30                   2       118.890889 -56.84834    -174.9888\n",
       "6     5W30                   3       118.874887 -56.77548    -163.4336\n",
       "7     5W30                   3       118.886889 -56.79126    -172.6035\n",
       "8     5W30                   3       118.858886 -56.88812    -151.9654>"
      ]
     },
     "execution_count": 16,
     "metadata": {},
     "output_type": "execute_result"
    }
   ],
   "execution_count": 16
  },
  {
   "metadata": {
    "ExecuteTime": {
     "end_time": "2024-10-31T19:20:52.246467Z",
     "start_time": "2024-10-31T19:20:52.236108Z"
    }
   },
   "cell_type": "code",
   "source": [
    "#assegura somente óleo 5W30 lido\n",
    "for name in df_synthetic[\"OIL NAME\"]:\n",
    "    if name != \"5W30\":\n",
    "        print(\"Diferente de 5W30\")"
   ],
   "id": "2642571febd29b76",
   "outputs": [],
   "execution_count": 17
  },
  {
   "metadata": {
    "ExecuteTime": {
     "end_time": "2024-10-31T19:20:52.296492Z",
     "start_time": "2024-10-31T19:20:52.273980Z"
    }
   },
   "cell_type": "code",
   "source": [
    "path_save_csv = os.path.join(script_directory,'..','..', 'oil_data','oil_data','CSVs')\n",
    "if not os.path.exists(path_save_csv):\n",
    "   os.makedirs(path_save_csv)\n",
    "df_synthetic.to_csv(path_save_csv + '/5W30_measurements.csv')"
   ],
   "id": "efa52a6edcc00df7",
   "outputs": [],
   "execution_count": 18
  },
  {
   "metadata": {},
   "cell_type": "markdown",
   "source": "--------------------------------------------------------------------------",
   "id": "7235489d1f2a87e5"
  },
  {
   "metadata": {
    "ExecuteTime": {
     "end_time": "2024-10-31T19:20:52.344610Z",
     "start_time": "2024-10-31T19:20:52.318537Z"
    }
   },
   "cell_type": "code",
   "source": "df_synthetic.info",
   "id": "2c4310c9c76cb662",
   "outputs": [
    {
     "data": {
      "text/plain": [
       "<bound method DataFrame.info of   OIL NAME  MEASUREMENT NUMBER  FREQUENCY (MHZ)  S21 (db)  PHASE (DEG)\n",
       "0     5W30                   1       118.872887 -57.27288    -162.4664\n",
       "1     5W30                   1       118.888889 -57.45019    -173.8333\n",
       "2     5W30                   1       118.890889 -57.45746    -173.8878\n",
       "3     5W30                   2       118.888889 -56.54844    -175.7385\n",
       "4     5W30                   2       118.892889 -56.77471    -176.5249\n",
       "5     5W30                   2       118.890889 -56.84834    -174.9888\n",
       "6     5W30                   3       118.874887 -56.77548    -163.4336\n",
       "7     5W30                   3       118.886889 -56.79126    -172.6035\n",
       "8     5W30                   3       118.858886 -56.88812    -151.9654>"
      ]
     },
     "execution_count": 19,
     "metadata": {},
     "output_type": "execute_result"
    }
   ],
   "execution_count": 19
  }
 ],
 "metadata": {
  "kernelspec": {
   "display_name": "Python 3",
   "language": "python",
   "name": "python3"
  },
  "language_info": {
   "codemirror_mode": {
    "name": "ipython",
    "version": 2
   },
   "file_extension": ".py",
   "mimetype": "text/x-python",
   "name": "python",
   "nbconvert_exporter": "python",
   "pygments_lexer": "ipython2",
   "version": "2.7.6"
  }
 },
 "nbformat": 4,
 "nbformat_minor": 5
}
