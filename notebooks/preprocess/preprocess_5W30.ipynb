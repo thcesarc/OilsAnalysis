{
 "cells": [
  {
   "metadata": {},
   "cell_type": "markdown",
   "source": [
    "## This notebook:\n",
    "### reads three .S2P file from three measurements of 5W30  synthetic oil;\n",
    "### creates a DataFrame pandas object from the info of .S2P file\n",
    "### selects the desired features and saves a .CSV file.\n"
   ],
   "id": "8abb6198a17d1ca8"
  },
  {
   "metadata": {},
   "cell_type": "markdown",
   "source": "#### Imports",
   "id": "72e552c00f447386"
  },
  {
   "cell_type": "code",
   "id": "initial_id",
   "metadata": {
    "collapsed": true,
    "ExecuteTime": {
     "end_time": "2024-11-01T12:14:27.717036Z",
     "start_time": "2024-11-01T12:14:27.694511Z"
    }
   },
   "source": [
    "import os\n",
    "import re\n",
    "import skrf as rf\n",
    "import pandas as pd"
   ],
   "outputs": [],
   "execution_count": 37
  },
  {
   "metadata": {},
   "cell_type": "markdown",
   "source": "#### Paths",
   "id": "a648914a7d62e301"
  },
  {
   "metadata": {
    "ExecuteTime": {
     "end_time": "2024-11-01T12:14:27.756454Z",
     "start_time": "2024-11-01T12:14:27.732667Z"
    }
   },
   "cell_type": "code",
   "source": [
    "script_directory = os.getcwd()#obtem diretório atual\n",
    "s2ps_path = os.path.join(script_directory,'..','..','oil_data','oil_data') #cria string caminho para todos os .s2p"
   ],
   "id": "ce5b1b2db8906c6d",
   "outputs": [],
   "execution_count": 38
  },
  {
   "metadata": {},
   "cell_type": "markdown",
   "source": "#### Regex",
   "id": "13c3bb9d48c2ad0a"
  },
  {
   "metadata": {
    "ExecuteTime": {
     "end_time": "2024-11-01T12:14:27.778314Z",
     "start_time": "2024-11-01T12:14:27.771312Z"
    }
   },
   "cell_type": "code",
   "source": "regex = r'SAW_06_02_2024_OIL_5W30_(\\d+)\\.S2P'",
   "id": "12a97a9cae9354dc",
   "outputs": [],
   "execution_count": 39
  },
  {
   "metadata": {
    "ExecuteTime": {
     "end_time": "2024-11-01T12:14:27.803439Z",
     "start_time": "2024-11-01T12:14:27.794102Z"
    }
   },
   "cell_type": "code",
   "source": [
    "def read_s2p_data(regex, path):\n",
    "    dfs = []#lista para ocncatenar todos os dicts de cada medição \n",
    "    for filename in os.listdir(path):\n",
    "        match = re.match(regex, filename)\n",
    "        if match:\n",
    "            #obtem informação do nome do arquivo\n",
    "            oil_name = \"5W30\"\n",
    "            measurement_number = int(match.group(1))\n",
    "            \n",
    "            #carrega arquivo\n",
    "            path_to_oil = os.path.join(path, filename)\n",
    "            s2p_file = rf.Network(path_to_oil)\n",
    "            \n",
    "            #extrai frequência, parâmetro S21 e fase do objeto Network\n",
    "            frequency = s2p_file.f\n",
    "            s_parameters = s2p_file.s_db[:,1,0]\n",
    "            phase = s2p_file.s_deg[:,1,0]\n",
    "            \n",
    "            #Dataframe com informações selecionadas\n",
    "            individual_oil_dict = {\n",
    "                'OIL NAME': oil_name,\n",
    "                'OIL TYPE': 'SYNTHETIC',\n",
    "                'MEASUREMENT NUMBER': measurement_number,\n",
    "                'FREQUENCY (MHZ)':frequency/1000000,\n",
    "                'S21 (db)' : s_parameters,\n",
    "                'PHASE (DEG)': phase,\n",
    "            }\n",
    "            df = pd.DataFrame.from_dict(individual_oil_dict)\n",
    "            df = df.nlargest(3, 'S21 (db)')\n",
    "            dfs.append(df)\n",
    "            \n",
    "    dataframe = pd.concat(dfs, ignore_index=True)\n",
    "    return dataframe"
   ],
   "id": "bf11a9b51417b9b8",
   "outputs": [],
   "execution_count": 40
  },
  {
   "metadata": {},
   "cell_type": "markdown",
   "source": "#### Read Dataframes",
   "id": "383cb83e11babedf"
  },
  {
   "metadata": {
    "ExecuteTime": {
     "end_time": "2024-11-01T12:14:27.997428Z",
     "start_time": "2024-11-01T12:14:27.821929Z"
    }
   },
   "cell_type": "code",
   "source": "df_synthetic = read_s2p_data(regex, s2ps_path)",
   "id": "f6f165c36a0897e4",
   "outputs": [],
   "execution_count": 41
  },
  {
   "metadata": {
    "ExecuteTime": {
     "end_time": "2024-11-01T12:14:28.043034Z",
     "start_time": "2024-11-01T12:14:28.028956Z"
    }
   },
   "cell_type": "code",
   "source": "df_synthetic.info",
   "id": "75ca2723a2976681",
   "outputs": [
    {
     "data": {
      "text/plain": [
       "<bound method DataFrame.info of   OIL NAME   OIL TYPE  MEASUREMENT NUMBER  FREQUENCY (MHZ)  S21 (db)  \\\n",
       "0     5W30  SYNTHETIC                   1       118.872887 -57.27288   \n",
       "1     5W30  SYNTHETIC                   1       118.888889 -57.45019   \n",
       "2     5W30  SYNTHETIC                   1       118.890889 -57.45746   \n",
       "3     5W30  SYNTHETIC                   2       118.888889 -56.54844   \n",
       "4     5W30  SYNTHETIC                   2       118.892889 -56.77471   \n",
       "5     5W30  SYNTHETIC                   2       118.890889 -56.84834   \n",
       "6     5W30  SYNTHETIC                   3       118.874887 -56.77548   \n",
       "7     5W30  SYNTHETIC                   3       118.886889 -56.79126   \n",
       "8     5W30  SYNTHETIC                   3       118.858886 -56.88812   \n",
       "\n",
       "   PHASE (DEG)  \n",
       "0    -162.4664  \n",
       "1    -173.8333  \n",
       "2    -173.8878  \n",
       "3    -175.7385  \n",
       "4    -176.5249  \n",
       "5    -174.9888  \n",
       "6    -163.4336  \n",
       "7    -172.6035  \n",
       "8    -151.9654  >"
      ]
     },
     "execution_count": 42,
     "metadata": {},
     "output_type": "execute_result"
    }
   ],
   "execution_count": 42
  },
  {
   "metadata": {
    "ExecuteTime": {
     "end_time": "2024-11-01T12:14:28.140178Z",
     "start_time": "2024-11-01T12:14:28.133920Z"
    }
   },
   "cell_type": "code",
   "source": [
    "#assegura somente óleo 5W30 lido\n",
    "for name in df_synthetic[\"OIL NAME\"]:\n",
    "    if name != \"5W30\":\n",
    "        print(\"Diferente de 5W30\")"
   ],
   "id": "2642571febd29b76",
   "outputs": [],
   "execution_count": 43
  },
  {
   "metadata": {
    "ExecuteTime": {
     "end_time": "2024-11-01T12:14:28.201646Z",
     "start_time": "2024-11-01T12:14:28.188121Z"
    }
   },
   "cell_type": "code",
   "source": [
    "path_save_csv = os.path.join(script_directory,'..','..', 'oil_data','oil_data','CSVs')\n",
    "if not os.path.exists(path_save_csv):\n",
    "   os.makedirs(path_save_csv)\n",
    "df_synthetic.to_csv(path_save_csv + '/5W30_measurements.csv')"
   ],
   "id": "efa52a6edcc00df7",
   "outputs": [],
   "execution_count": 44
  },
  {
   "metadata": {},
   "cell_type": "markdown",
   "source": "--------------------------------------------------------------------------",
   "id": "7235489d1f2a87e5"
  },
  {
   "metadata": {
    "ExecuteTime": {
     "end_time": "2024-11-01T12:14:28.219582Z",
     "start_time": "2024-11-01T12:14:28.208604Z"
    }
   },
   "cell_type": "code",
   "source": "df_synthetic.info",
   "id": "2c4310c9c76cb662",
   "outputs": [
    {
     "data": {
      "text/plain": [
       "<bound method DataFrame.info of   OIL NAME   OIL TYPE  MEASUREMENT NUMBER  FREQUENCY (MHZ)  S21 (db)  \\\n",
       "0     5W30  SYNTHETIC                   1       118.872887 -57.27288   \n",
       "1     5W30  SYNTHETIC                   1       118.888889 -57.45019   \n",
       "2     5W30  SYNTHETIC                   1       118.890889 -57.45746   \n",
       "3     5W30  SYNTHETIC                   2       118.888889 -56.54844   \n",
       "4     5W30  SYNTHETIC                   2       118.892889 -56.77471   \n",
       "5     5W30  SYNTHETIC                   2       118.890889 -56.84834   \n",
       "6     5W30  SYNTHETIC                   3       118.874887 -56.77548   \n",
       "7     5W30  SYNTHETIC                   3       118.886889 -56.79126   \n",
       "8     5W30  SYNTHETIC                   3       118.858886 -56.88812   \n",
       "\n",
       "   PHASE (DEG)  \n",
       "0    -162.4664  \n",
       "1    -173.8333  \n",
       "2    -173.8878  \n",
       "3    -175.7385  \n",
       "4    -176.5249  \n",
       "5    -174.9888  \n",
       "6    -163.4336  \n",
       "7    -172.6035  \n",
       "8    -151.9654  >"
      ]
     },
     "execution_count": 45,
     "metadata": {},
     "output_type": "execute_result"
    }
   ],
   "execution_count": 45
  }
 ],
 "metadata": {
  "kernelspec": {
   "display_name": "Python 3",
   "language": "python",
   "name": "python3"
  },
  "language_info": {
   "codemirror_mode": {
    "name": "ipython",
    "version": 2
   },
   "file_extension": ".py",
   "mimetype": "text/x-python",
   "name": "python",
   "nbconvert_exporter": "python",
   "pygments_lexer": "ipython2",
   "version": "2.7.6"
  }
 },
 "nbformat": 4,
 "nbformat_minor": 5
}
