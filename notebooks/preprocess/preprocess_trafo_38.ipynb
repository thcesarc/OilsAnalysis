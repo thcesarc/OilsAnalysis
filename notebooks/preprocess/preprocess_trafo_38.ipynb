{
 "cells": [
  {
   "metadata": {},
   "cell_type": "markdown",
   "source": "#### Imports",
   "id": "72e552c00f447386"
  },
  {
   "cell_type": "code",
   "id": "initial_id",
   "metadata": {
    "collapsed": true,
    "ExecuteTime": {
     "end_time": "2024-10-29T14:07:14.160912Z",
     "start_time": "2024-10-29T14:07:14.157198Z"
    }
   },
   "source": [
    "import os\n",
    "import re\n",
    "import skrf as rf\n",
    "import pandas as pd"
   ],
   "outputs": [],
   "execution_count": 13
  },
  {
   "metadata": {},
   "cell_type": "markdown",
   "source": "#### Paths",
   "id": "a648914a7d62e301"
  },
  {
   "metadata": {
    "ExecuteTime": {
     "end_time": "2024-10-29T14:07:14.188028Z",
     "start_time": "2024-10-29T14:07:14.175836Z"
    }
   },
   "cell_type": "code",
   "source": [
    "script_directory = os.getcwd()#obtem diretório atual\n",
    "s2ps_path = os.path.join(script_directory,'..','..','oil_data','oil_data') #cria string caminho para todos os .s2p"
   ],
   "id": "ce5b1b2db8906c6d",
   "outputs": [],
   "execution_count": 14
  },
  {
   "metadata": {},
   "cell_type": "markdown",
   "source": "#### Regex = hell",
   "id": "13c3bb9d48c2ad0a"
  },
  {
   "metadata": {
    "ExecuteTime": {
     "end_time": "2024-10-29T14:07:14.210413Z",
     "start_time": "2024-10-29T14:07:14.201383Z"
    }
   },
   "cell_type": "code",
   "source": "regex = r'SAW_06_02_2024_OIL_10W40_(\\d+)\\.S2P'",
   "id": "12a97a9cae9354dc",
   "outputs": [],
   "execution_count": 15
  },
  {
   "metadata": {
    "ExecuteTime": {
     "end_time": "2024-10-29T14:07:14.250504Z",
     "start_time": "2024-10-29T14:07:14.241335Z"
    }
   },
   "cell_type": "code",
   "source": [
    "def read_s2p_data(regex, path):\n",
    "    dfs = []#lista para ocncatenar todos os dicts de cada medição \n",
    "    for filename in os.listdir(path):\n",
    "        match = re.match(regex, filename)\n",
    "        if match:\n",
    "            #obtem informação do nome do arquivo\n",
    "            oil_name = \"10W40\"\n",
    "            measurement_number = int(match.group(1))\n",
    "            \n",
    "            #carrega arquivo\n",
    "            path_to_oil = os.path.join(path, filename)\n",
    "            s2p_file = rf.Network(path_to_oil)\n",
    "            \n",
    "            #extrai frequência e parâmetros S do objeto Network\n",
    "            frequency = s2p_file.f\n",
    "            s_parameters = s2p_file.s_db\n",
    "            \n",
    "            #Dataframe com informações do objeto Network\n",
    "            individual_oil_dict = {\n",
    "                'OIL NAME': oil_name,\n",
    "                'MEASUREMENT NUMBER': measurement_number,\n",
    "                'FREQUENCY (MHZ)':frequency/1000000,\n",
    "                'S11 (db)' : s_parameters[:,0,0],\n",
    "                'S21 (db)' : s_parameters[:,1,0],\n",
    "                'S12 (db)' : s_parameters[:,0,1],\n",
    "                'S22 (db)' : s_parameters[:,1,1],\n",
    "            }\n",
    "            df = pd.DataFrame.from_dict(individual_oil_dict)\n",
    "            dfs.append(df)\n",
    "            \n",
    "    dataframe = pd.concat(dfs, ignore_index=True)\n",
    "    return dataframe"
   ],
   "id": "bf11a9b51417b9b8",
   "outputs": [],
   "execution_count": 16
  },
  {
   "metadata": {},
   "cell_type": "markdown",
   "source": "#### Read Dataframes",
   "id": "383cb83e11babedf"
  },
  {
   "metadata": {
    "ExecuteTime": {
     "end_time": "2024-10-29T14:07:14.395887Z",
     "start_time": "2024-10-29T14:07:14.254511Z"
    }
   },
   "cell_type": "code",
   "source": "df_synthetic = read_s2p_data(regex, s2ps_path)",
   "id": "f6f165c36a0897e4",
   "outputs": [],
   "execution_count": 17
  },
  {
   "metadata": {
    "ExecuteTime": {
     "end_time": "2024-10-29T14:07:14.422120Z",
     "start_time": "2024-10-29T14:07:14.412803Z"
    }
   },
   "cell_type": "code",
   "source": "df_synthetic.info",
   "id": "75ca2723a2976681",
   "outputs": [
    {
     "data": {
      "text/plain": [
       "<bound method DataFrame.info of       OIL NAME  MEASUREMENT NUMBER  FREQUENCY (MHZ)  S11 (db)  S21 (db)  \\\n",
       "0        10W40                   1       110.000000 -0.931573 -78.40726   \n",
       "1        10W40                   1       110.002000 -0.931530 -76.54260   \n",
       "2        10W40                   1       110.004000 -0.931797 -77.46277   \n",
       "3        10W40                   1       110.006001 -0.932706 -80.72226   \n",
       "4        10W40                   1       110.008001 -0.931627 -79.30692   \n",
       "...        ...                 ...              ...       ...       ...   \n",
       "29995    10W40                   3       129.991999 -1.301960 -68.84161   \n",
       "29996    10W40                   3       129.993999 -1.302031 -69.41974   \n",
       "29997    10W40                   3       129.996000 -1.300586 -68.99509   \n",
       "29998    10W40                   3       129.998000 -1.302139 -67.86802   \n",
       "29999    10W40                   3       130.000000 -1.302044 -66.50051   \n",
       "\n",
       "       S12 (db)  S22 (db)  \n",
       "0     -80.58380 -1.138939  \n",
       "1     -82.10558 -1.141851  \n",
       "2     -81.38131 -1.139849  \n",
       "3     -80.73090 -1.141337  \n",
       "4     -80.53842 -1.143188  \n",
       "...         ...       ...  \n",
       "29995 -68.56099 -1.654127  \n",
       "29996 -69.81593 -1.656027  \n",
       "29997 -71.00906 -1.653141  \n",
       "29998 -69.39095 -1.656467  \n",
       "29999 -68.87859 -1.654078  \n",
       "\n",
       "[30000 rows x 7 columns]>"
      ]
     },
     "execution_count": 18,
     "metadata": {},
     "output_type": "execute_result"
    }
   ],
   "execution_count": 18
  },
  {
   "metadata": {
    "ExecuteTime": {
     "end_time": "2024-10-29T14:07:14.459590Z",
     "start_time": "2024-10-29T14:07:14.440136Z"
    }
   },
   "cell_type": "code",
   "source": [
    "#assegura somente óleo de girassol lido\n",
    "for name in df_synthetic[\"OIL NAME\"]:\n",
    "    if name != \"10W40\":\n",
    "        print(\"Diferente de 10W40\")"
   ],
   "id": "2642571febd29b76",
   "outputs": [],
   "execution_count": 19
  },
  {
   "metadata": {
    "ExecuteTime": {
     "end_time": "2024-10-29T14:07:14.696440Z",
     "start_time": "2024-10-29T14:07:14.480757Z"
    }
   },
   "cell_type": "code",
   "source": [
    "#cria .csv caso precise no futuro.\n",
    "path_save_csv = os.path.join(script_directory,'..','..', 'oil_data','oil_data','CSVs')\n",
    "if not os.path.exists(path_save_csv):\n",
    "   os.makedirs(path_save_csv)\n",
    "df_synthetic.to_csv(path_save_csv + '/10W40_measurements.csv')"
   ],
   "id": "efa52a6edcc00df7",
   "outputs": [],
   "execution_count": 20
  },
  {
   "metadata": {
    "ExecuteTime": {
     "end_time": "2024-10-29T14:07:14.718909Z",
     "start_time": "2024-10-29T14:07:14.710157Z"
    }
   },
   "cell_type": "code",
   "source": [
    "def average_measurements(dataframe):\n",
    "    #agrupa valores por frequência e calcula média do que interessa\n",
    "    return dataframe.groupby('FREQUENCY (MHZ)', as_index=False)['S21 (db)'].mean()"
   ],
   "id": "715ba63364ad15be",
   "outputs": [],
   "execution_count": 21
  },
  {
   "metadata": {
    "ExecuteTime": {
     "end_time": "2024-10-29T14:07:14.745307Z",
     "start_time": "2024-10-29T14:07:14.734548Z"
    }
   },
   "cell_type": "code",
   "source": "df_10W40_s21 = average_measurements(df_synthetic)",
   "id": "297aaa76ab2db707",
   "outputs": [],
   "execution_count": 22
  },
  {
   "metadata": {
    "ExecuteTime": {
     "end_time": "2024-10-29T14:07:14.800247Z",
     "start_time": "2024-10-29T14:07:14.768036Z"
    }
   },
   "cell_type": "code",
   "source": "df_10W40_s21.info\n",
   "id": "9ddeac11d9505600",
   "outputs": [
    {
     "data": {
      "text/plain": [
       "<bound method DataFrame.info of       FREQUENCY (MHZ)   S21 (db)\n",
       "0          110.000000 -79.685367\n",
       "1          110.002000 -78.228660\n",
       "2          110.004000 -79.195877\n",
       "3          110.006001 -79.919220\n",
       "4          110.008001 -78.381107\n",
       "...               ...        ...\n",
       "9995       129.991999 -68.011847\n",
       "9996       129.993999 -67.884593\n",
       "9997       129.996000 -67.845993\n",
       "9998       129.998000 -67.323890\n",
       "9999       130.000000 -66.655403\n",
       "\n",
       "[10000 rows x 2 columns]>"
      ]
     },
     "execution_count": 23,
     "metadata": {},
     "output_type": "execute_result"
    }
   ],
   "execution_count": 23
  },
  {
   "metadata": {
    "ExecuteTime": {
     "end_time": "2024-10-29T14:07:14.929461Z",
     "start_time": "2024-10-29T14:07:14.901654Z"
    }
   },
   "cell_type": "code",
   "source": [
    "#cria .csv caso precise no futuro.\n",
    "path_save_csv_processed = os.path.join(script_directory,'..','..', 'oil_data','oil_data','CSVs','processed')\n",
    "if not os.path.exists(path_save_csv_processed):\n",
    "   os.makedirs(path_save_csv_processed)\n",
    "df_10W40_s21.to_csv(path_save_csv_processed + '/10W40_measurements_processed.csv')"
   ],
   "id": "ca1f371ae383db4b",
   "outputs": [],
   "execution_count": 24
  }
 ],
 "metadata": {
  "kernelspec": {
   "display_name": "Python 3",
   "language": "python",
   "name": "python3"
  },
  "language_info": {
   "codemirror_mode": {
    "name": "ipython",
    "version": 2
   },
   "file_extension": ".py",
   "mimetype": "text/x-python",
   "name": "python",
   "nbconvert_exporter": "python",
   "pygments_lexer": "ipython2",
   "version": "2.7.6"
  }
 },
 "nbformat": 4,
 "nbformat_minor": 5
}
