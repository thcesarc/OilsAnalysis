{
 "cells": [
  {
   "metadata": {},
   "cell_type": "markdown",
   "source": "#### Imports",
   "id": "72e552c00f447386"
  },
  {
   "cell_type": "code",
   "id": "initial_id",
   "metadata": {
    "collapsed": true,
    "ExecuteTime": {
     "end_time": "2024-10-29T14:16:23.604697Z",
     "start_time": "2024-10-29T14:16:23.599085Z"
    }
   },
   "source": [
    "import os\n",
    "import re\n",
    "import skrf as rf\n",
    "import pandas as pd"
   ],
   "outputs": [],
   "execution_count": 29
  },
  {
   "metadata": {},
   "cell_type": "markdown",
   "source": "#### Paths",
   "id": "a648914a7d62e301"
  },
  {
   "metadata": {
    "ExecuteTime": {
     "end_time": "2024-10-29T14:16:23.613730Z",
     "start_time": "2024-10-29T14:16:23.608060Z"
    }
   },
   "cell_type": "code",
   "source": [
    "script_directory = os.getcwd()#obtem diretório atual\n",
    "s2ps_path = os.path.join(script_directory,'..','..','oil_data','oil_data') #cria string caminho para todos os .s2p"
   ],
   "id": "ce5b1b2db8906c6d",
   "outputs": [],
   "execution_count": 30
  },
  {
   "metadata": {},
   "cell_type": "markdown",
   "source": "#### Regex = hell",
   "id": "13c3bb9d48c2ad0a"
  },
  {
   "metadata": {
    "ExecuteTime": {
     "end_time": "2024-10-29T14:16:23.630409Z",
     "start_time": "2024-10-29T14:16:23.624992Z"
    }
   },
   "cell_type": "code",
   "source": "regex = r'SAW_06_02_2024_OIL_TRAFO_38_(\\d+)\\.S2P'",
   "id": "12a97a9cae9354dc",
   "outputs": [],
   "execution_count": 31
  },
  {
   "metadata": {
    "ExecuteTime": {
     "end_time": "2024-10-29T14:16:23.656248Z",
     "start_time": "2024-10-29T14:16:23.646989Z"
    }
   },
   "cell_type": "code",
   "source": [
    "def read_s2p_data(regex, path):\n",
    "    dfs = []#lista para ocncatenar todos os dicts de cada medição \n",
    "    for filename in os.listdir(path):\n",
    "        match = re.match(regex, filename)\n",
    "        if match:\n",
    "            #obtem informação do nome do arquivo\n",
    "            oil_name = \"TRAFO 38\"\n",
    "            measurement_number = int(match.group(1))\n",
    "            \n",
    "            #carrega arquivo\n",
    "            path_to_oil = os.path.join(path, filename)\n",
    "            s2p_file = rf.Network(path_to_oil)\n",
    "            \n",
    "            #extrai frequência e parâmetros S do objeto Network\n",
    "            frequency = s2p_file.f\n",
    "            s_parameters = s2p_file.s_db\n",
    "            \n",
    "            #Dataframe com informações do objeto Network\n",
    "            individual_oil_dict = {\n",
    "                'OIL NAME': oil_name,\n",
    "                'MEASUREMENT NUMBER': measurement_number,\n",
    "                'FREQUENCY (MHZ)':frequency/1000000,\n",
    "                'S11 (db)' : s_parameters[:,0,0],\n",
    "                'S21 (db)' : s_parameters[:,1,0],\n",
    "                'S12 (db)' : s_parameters[:,0,1],\n",
    "                'S22 (db)' : s_parameters[:,1,1],\n",
    "            }\n",
    "            df = pd.DataFrame.from_dict(individual_oil_dict)\n",
    "            dfs.append(df)\n",
    "            \n",
    "    dataframe = pd.concat(dfs, ignore_index=True)\n",
    "    return dataframe"
   ],
   "id": "bf11a9b51417b9b8",
   "outputs": [],
   "execution_count": 32
  },
  {
   "metadata": {},
   "cell_type": "markdown",
   "source": "#### Read Dataframes",
   "id": "383cb83e11babedf"
  },
  {
   "metadata": {
    "ExecuteTime": {
     "end_time": "2024-10-29T14:16:23.821111Z",
     "start_time": "2024-10-29T14:16:23.677410Z"
    }
   },
   "cell_type": "code",
   "source": "df_mineral = read_s2p_data(regex, s2ps_path)",
   "id": "f6f165c36a0897e4",
   "outputs": [],
   "execution_count": 33
  },
  {
   "metadata": {
    "ExecuteTime": {
     "end_time": "2024-10-29T14:16:23.857206Z",
     "start_time": "2024-10-29T14:16:23.846324Z"
    }
   },
   "cell_type": "code",
   "source": "df_mineral.info",
   "id": "75ca2723a2976681",
   "outputs": [
    {
     "data": {
      "text/plain": [
       "<bound method DataFrame.info of        OIL NAME  MEASUREMENT NUMBER  FREQUENCY (MHZ)  S11 (db)  S21 (db)  \\\n",
       "0      TRAFO 38                   1       110.000000 -0.969863 -82.68540   \n",
       "1      TRAFO 38                   1       110.002000 -0.970456 -73.82391   \n",
       "2      TRAFO 38                   1       110.004000 -0.971064 -78.46970   \n",
       "3      TRAFO 38                   1       110.006001 -0.971451 -80.12454   \n",
       "4      TRAFO 38                   1       110.008001 -0.970726 -76.48322   \n",
       "...         ...                 ...              ...       ...       ...   \n",
       "29995  TRAFO 38                   3       129.991999 -1.372363 -70.82593   \n",
       "29996  TRAFO 38                   3       129.993999 -1.372485 -68.65086   \n",
       "29997  TRAFO 38                   3       129.996000 -1.371827 -69.72959   \n",
       "29998  TRAFO 38                   3       129.998000 -1.371638 -67.85474   \n",
       "29999  TRAFO 38                   3       130.000000 -1.372850 -67.81706   \n",
       "\n",
       "       S12 (db)  S22 (db)  \n",
       "0     -79.72281 -1.140833  \n",
       "1     -78.09199 -1.143687  \n",
       "2     -78.08651 -1.141648  \n",
       "3     -77.41054 -1.143141  \n",
       "4     -79.98351 -1.142974  \n",
       "...         ...       ...  \n",
       "29995 -69.92424 -1.480987  \n",
       "29996 -69.94775 -1.479695  \n",
       "29997 -69.05923 -1.479407  \n",
       "29998 -68.16858 -1.480555  \n",
       "29999 -67.17203 -1.479060  \n",
       "\n",
       "[30000 rows x 7 columns]>"
      ]
     },
     "execution_count": 34,
     "metadata": {},
     "output_type": "execute_result"
    }
   ],
   "execution_count": 34
  },
  {
   "metadata": {
    "ExecuteTime": {
     "end_time": "2024-10-29T14:16:23.951059Z",
     "start_time": "2024-10-29T14:16:23.921529Z"
    }
   },
   "cell_type": "code",
   "source": [
    "#assegura somente óleo de girassol lido\n",
    "for name in df_mineral[\"OIL NAME\"]:\n",
    "    if name != \"TRAFO 38\":\n",
    "        print(\"Diferente de TRAFO 38\")"
   ],
   "id": "2642571febd29b76",
   "outputs": [],
   "execution_count": 35
  },
  {
   "metadata": {
    "ExecuteTime": {
     "end_time": "2024-10-29T14:16:24.164323Z",
     "start_time": "2024-10-29T14:16:23.968014Z"
    }
   },
   "cell_type": "code",
   "source": [
    "#cria .csv caso precise no futuro.\n",
    "path_save_csv = os.path.join(script_directory,'..','..', 'oil_data','oil_data','CSVs')\n",
    "if not os.path.exists(path_save_csv):\n",
    "   os.makedirs(path_save_csv)\n",
    "df_mineral.to_csv(path_save_csv + '/TRAFO_38_measurements.csv')"
   ],
   "id": "efa52a6edcc00df7",
   "outputs": [],
   "execution_count": 36
  },
  {
   "metadata": {
    "ExecuteTime": {
     "end_time": "2024-10-29T14:16:24.188980Z",
     "start_time": "2024-10-29T14:16:24.181032Z"
    }
   },
   "cell_type": "code",
   "source": [
    "def average_measurements(dataframe):\n",
    "    #agrupa valores por frequência e calcula média do que interessa\n",
    "    return dataframe.groupby('FREQUENCY (MHZ)', as_index=False)['S21 (db)'].mean()"
   ],
   "id": "715ba63364ad15be",
   "outputs": [],
   "execution_count": 37
  },
  {
   "metadata": {
    "ExecuteTime": {
     "end_time": "2024-10-29T14:16:24.238437Z",
     "start_time": "2024-10-29T14:16:24.225890Z"
    }
   },
   "cell_type": "code",
   "source": "df_TRAFO_38_s21 = average_measurements(df_mineral)",
   "id": "297aaa76ab2db707",
   "outputs": [],
   "execution_count": 38
  },
  {
   "metadata": {
    "ExecuteTime": {
     "end_time": "2024-10-29T14:16:24.257177Z",
     "start_time": "2024-10-29T14:16:24.240586Z"
    }
   },
   "cell_type": "code",
   "source": "df_TRAFO_38_s21.info\n",
   "id": "9ddeac11d9505600",
   "outputs": [
    {
     "data": {
      "text/plain": [
       "<bound method DataFrame.info of       FREQUENCY (MHZ)   S21 (db)\n",
       "0          110.000000 -83.183533\n",
       "1          110.002000 -78.368323\n",
       "2          110.004000 -77.650627\n",
       "3          110.006001 -79.275413\n",
       "4          110.008001 -76.703070\n",
       "...               ...        ...\n",
       "9995       129.991999 -70.272337\n",
       "9996       129.993999 -68.959770\n",
       "9997       129.996000 -68.903420\n",
       "9998       129.998000 -68.276770\n",
       "9999       130.000000 -67.847340\n",
       "\n",
       "[10000 rows x 2 columns]>"
      ]
     },
     "execution_count": 39,
     "metadata": {},
     "output_type": "execute_result"
    }
   ],
   "execution_count": 39
  },
  {
   "metadata": {
    "ExecuteTime": {
     "end_time": "2024-10-29T14:16:24.384901Z",
     "start_time": "2024-10-29T14:16:24.335932Z"
    }
   },
   "cell_type": "code",
   "source": [
    "#cria .csv caso precise no futuro.\n",
    "path_save_csv_processed = os.path.join(script_directory,'..','..', 'oil_data','oil_data','CSVs','processed')\n",
    "if not os.path.exists(path_save_csv_processed):\n",
    "   os.makedirs(path_save_csv_processed)\n",
    "df_TRAFO_38_s21.to_csv(path_save_csv_processed + '/TRAFO_38_measurements_processed.csv')"
   ],
   "id": "ca1f371ae383db4b",
   "outputs": [],
   "execution_count": 40
  }
 ],
 "metadata": {
  "kernelspec": {
   "display_name": "Python 3",
   "language": "python",
   "name": "python3"
  },
  "language_info": {
   "codemirror_mode": {
    "name": "ipython",
    "version": 2
   },
   "file_extension": ".py",
   "mimetype": "text/x-python",
   "name": "python",
   "nbconvert_exporter": "python",
   "pygments_lexer": "ipython2",
   "version": "2.7.6"
  }
 },
 "nbformat": 4,
 "nbformat_minor": 5
}
