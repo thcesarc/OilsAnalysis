{
 "cells": [
  {
   "metadata": {},
   "cell_type": "markdown",
   "source": "imports",
   "id": "6dd9fb9f789358ad"
  },
  {
   "cell_type": "code",
   "id": "initial_id",
   "metadata": {
    "collapsed": true,
    "ExecuteTime": {
     "end_time": "2024-11-01T12:25:05.814436Z",
     "start_time": "2024-11-01T12:25:05.796952Z"
    }
   },
   "source": [
    "import os\n",
    "import pandas as pd\n",
    "from sklearn.preprocessing import MinMaxScaler\n",
    "from sklearn.preprocessing import LabelEncoder"
   ],
   "outputs": [],
   "execution_count": 85
  },
  {
   "metadata": {},
   "cell_type": "markdown",
   "source": "File read",
   "id": "136b04485d0cf132"
  },
  {
   "metadata": {
    "ExecuteTime": {
     "end_time": "2024-11-01T12:25:05.827654Z",
     "start_time": "2024-11-01T12:25:05.822230Z"
    }
   },
   "cell_type": "code",
   "source": [
    "scrip_directory = os.getcwd()\n",
    "path_to_csv_dir = os.path.join(scrip_directory, '..', '..', 'oil_data', 'oil_data', 'CSVs')"
   ],
   "id": "58f1d3b292e6d987",
   "outputs": [],
   "execution_count": 86
  },
  {
   "metadata": {
    "ExecuteTime": {
     "end_time": "2024-11-01T12:25:05.871004Z",
     "start_time": "2024-11-01T12:25:05.856960Z"
    }
   },
   "cell_type": "code",
   "source": "df = pd.read_csv(os.path.join(path_to_csv_dir, 'unified_data.csv'), index_col=0)",
   "id": "194b941954ed947a",
   "outputs": [],
   "execution_count": 87
  },
  {
   "metadata": {},
   "cell_type": "markdown",
   "source": "Label encoding and feature normalization",
   "id": "ae0082d5447d6fac"
  },
  {
   "metadata": {
    "ExecuteTime": {
     "end_time": "2024-11-01T12:25:05.894309Z",
     "start_time": "2024-11-01T12:25:05.889019Z"
    }
   },
   "cell_type": "code",
   "source": [
    "encoder = LabelEncoder()\n",
    "normalizer = MinMaxScaler()"
   ],
   "id": "e302b6e5d48433cd",
   "outputs": [],
   "execution_count": 88
  },
  {
   "metadata": {
    "ExecuteTime": {
     "end_time": "2024-11-01T12:25:05.919060Z",
     "start_time": "2024-11-01T12:25:05.911412Z"
    }
   },
   "cell_type": "code",
   "source": "df['OIL TYPE'] = encoder.fit_transform(df['OIL TYPE'])",
   "id": "66555e0f2e3c014e",
   "outputs": [],
   "execution_count": 89
  },
  {
   "metadata": {
    "ExecuteTime": {
     "end_time": "2024-11-01T12:25:05.963206Z",
     "start_time": "2024-11-01T12:25:05.946235Z"
    }
   },
   "cell_type": "code",
   "source": [
    "df['FREQUENCY (MHZ)'] = normalizer.fit_transform(df[['FREQUENCY (MHZ)']])\n",
    "df['S21 (db)'] = normalizer.fit_transform(df[['S21 (db)']])\n",
    "df['PHASE (DEG)'] = normalizer.fit_transform(df[['PHASE (DEG)']])"
   ],
   "id": "ac439984c42e092",
   "outputs": [],
   "execution_count": 90
  },
  {
   "metadata": {},
   "cell_type": "markdown",
   "source": "Drop unused features",
   "id": "1561b0991cd7c25"
  },
  {
   "metadata": {
    "ExecuteTime": {
     "end_time": "2024-11-01T12:25:05.986901Z",
     "start_time": "2024-11-01T12:25:05.977611Z"
    }
   },
   "cell_type": "code",
   "source": [
    "df.drop('MEASUREMENT NUMBER', axis=1, inplace=True)\n",
    "df.drop('OIL NAME', axis=1, inplace=True)"
   ],
   "id": "42d81ae5a12aba3d",
   "outputs": [],
   "execution_count": 91
  },
  {
   "metadata": {},
   "cell_type": "markdown",
   "source": "Save CSV",
   "id": "7a386cddad5d9cb"
  },
  {
   "metadata": {
    "ExecuteTime": {
     "end_time": "2024-11-01T12:25:06.019855Z",
     "start_time": "2024-11-01T12:25:06.009325Z"
    }
   },
   "cell_type": "code",
   "source": "df.to_csv(os.path.join(path_to_csv_dir, 'normalized_data.csv'), index=False)",
   "id": "8361425fc3135f22",
   "outputs": [],
   "execution_count": 92
  },
  {
   "metadata": {
    "ExecuteTime": {
     "end_time": "2024-11-01T12:25:06.057769Z",
     "start_time": "2024-11-01T12:25:06.037596Z"
    }
   },
   "cell_type": "code",
   "source": [
    "df_test = pd.read_csv(os.path.join(path_to_csv_dir, 'normalized_data.csv'))\n",
    "df_test.info"
   ],
   "id": "69fd0e465618f5f5",
   "outputs": [
    {
     "data": {
      "text/plain": [
       "<bound method DataFrame.info of     OIL TYPE  FREQUENCY (MHZ)  S21 (db)  PHASE (DEG)\n",
       "0          1         0.155174  0.008485     0.989019\n",
       "1          1         0.137934  0.006943     0.001079\n",
       "2          1         0.206901  0.000000     0.980117\n",
       "3          1         0.172413  0.039113     0.000000\n",
       "4          1         0.206901  0.038385     0.978137\n",
       "..       ...              ...       ...          ...\n",
       "76         0         0.310347  0.998872     0.096445\n",
       "77         0         0.241380  0.998211     0.109262\n",
       "78         0         0.327587  0.999282     0.092115\n",
       "79         0         0.827587  0.995990     0.989454\n",
       "80         0         0.706901  0.995288     0.011966\n",
       "\n",
       "[81 rows x 4 columns]>"
      ]
     },
     "execution_count": 93,
     "metadata": {},
     "output_type": "execute_result"
    }
   ],
   "execution_count": 93
  }
 ],
 "metadata": {
  "kernelspec": {
   "display_name": "Python 3",
   "language": "python",
   "name": "python3"
  },
  "language_info": {
   "codemirror_mode": {
    "name": "ipython",
    "version": 2
   },
   "file_extension": ".py",
   "mimetype": "text/x-python",
   "name": "python",
   "nbconvert_exporter": "python",
   "pygments_lexer": "ipython2",
   "version": "2.7.6"
  }
 },
 "nbformat": 4,
 "nbformat_minor": 5
}
