{
 "cells": [
  {
   "metadata": {},
   "cell_type": "markdown",
   "source": "#### Imports",
   "id": "72e552c00f447386"
  },
  {
   "cell_type": "code",
   "id": "initial_id",
   "metadata": {
    "collapsed": true,
    "ExecuteTime": {
     "end_time": "2024-10-29T14:02:48.633358Z",
     "start_time": "2024-10-29T14:02:48.622949Z"
    }
   },
   "source": [
    "import os\n",
    "import re\n",
    "import skrf as rf\n",
    "import pandas as pd"
   ],
   "outputs": [],
   "execution_count": 13
  },
  {
   "metadata": {},
   "cell_type": "markdown",
   "source": "#### Paths",
   "id": "a648914a7d62e301"
  },
  {
   "metadata": {
    "ExecuteTime": {
     "end_time": "2024-10-29T14:02:48.656365Z",
     "start_time": "2024-10-29T14:02:48.645451Z"
    }
   },
   "cell_type": "code",
   "source": [
    "script_directory = os.getcwd()#obtem diretório atual\n",
    "s2ps_path = os.path.join(script_directory,'..','..','oil_data','oil_data') #cria string caminho para todos os .s2p"
   ],
   "id": "ce5b1b2db8906c6d",
   "outputs": [],
   "execution_count": 14
  },
  {
   "metadata": {},
   "cell_type": "markdown",
   "source": "#### Regex = hell",
   "id": "13c3bb9d48c2ad0a"
  },
  {
   "metadata": {
    "ExecuteTime": {
     "end_time": "2024-10-29T14:02:48.676824Z",
     "start_time": "2024-10-29T14:02:48.670329Z"
    }
   },
   "cell_type": "code",
   "source": "regex = r'SAW_06_02_2024_OIL_5W40_(\\d+)\\.S2P'",
   "id": "12a97a9cae9354dc",
   "outputs": [],
   "execution_count": 15
  },
  {
   "metadata": {
    "ExecuteTime": {
     "end_time": "2024-10-29T14:02:48.711385Z",
     "start_time": "2024-10-29T14:02:48.700738Z"
    }
   },
   "cell_type": "code",
   "source": [
    "def read_s2p_data(regex, path):\n",
    "    dfs = []#lista para ocncatenar todos os dicts de cada medição \n",
    "    for filename in os.listdir(path):\n",
    "        match = re.match(regex, filename)\n",
    "        if match:\n",
    "            #obtem informação do nome do arquivo\n",
    "            oil_name = \"5W40\"\n",
    "            measurement_number = int(match.group(1))\n",
    "            \n",
    "            #carrega arquivo\n",
    "            path_to_oil = os.path.join(path, filename)\n",
    "            s2p_file = rf.Network(path_to_oil)\n",
    "            \n",
    "            #extrai frequência e parâmetros S do objeto Network\n",
    "            frequency = s2p_file.f\n",
    "            s_parameters = s2p_file.s_db\n",
    "            \n",
    "            #Dataframe com informações do objeto Network\n",
    "            individual_oil_dict = {\n",
    "                'OIL NAME': oil_name,\n",
    "                'MEASUREMENT NUMBER': measurement_number,\n",
    "                'FREQUENCY (MHZ)':frequency/1000000,\n",
    "                'S11 (db)' : s_parameters[:,0,0],\n",
    "                'S21 (db)' : s_parameters[:,1,0],\n",
    "                'S12 (db)' : s_parameters[:,0,1],\n",
    "                'S22 (db)' : s_parameters[:,1,1],\n",
    "            }\n",
    "            df = pd.DataFrame.from_dict(individual_oil_dict)\n",
    "            dfs.append(df)\n",
    "            \n",
    "    dataframe = pd.concat(dfs, ignore_index=True)\n",
    "    return dataframe"
   ],
   "id": "bf11a9b51417b9b8",
   "outputs": [],
   "execution_count": 16
  },
  {
   "metadata": {},
   "cell_type": "markdown",
   "source": "#### Read Dataframes",
   "id": "383cb83e11babedf"
  },
  {
   "metadata": {
    "ExecuteTime": {
     "end_time": "2024-10-29T14:02:48.866422Z",
     "start_time": "2024-10-29T14:02:48.728291Z"
    }
   },
   "cell_type": "code",
   "source": "df_synthetic = read_s2p_data(regex, s2ps_path)",
   "id": "f6f165c36a0897e4",
   "outputs": [],
   "execution_count": 17
  },
  {
   "metadata": {
    "ExecuteTime": {
     "end_time": "2024-10-29T14:02:48.895006Z",
     "start_time": "2024-10-29T14:02:48.878438Z"
    }
   },
   "cell_type": "code",
   "source": "df_synthetic.info",
   "id": "75ca2723a2976681",
   "outputs": [
    {
     "data": {
      "text/plain": [
       "<bound method DataFrame.info of       OIL NAME  MEASUREMENT NUMBER  FREQUENCY (MHZ)  S11 (db)  S21 (db)  \\\n",
       "0         5W40                   1       110.000000 -0.936621 -75.98116   \n",
       "1         5W40                   1       110.002000 -0.936826 -79.04511   \n",
       "2         5W40                   1       110.004000 -0.937512 -80.92610   \n",
       "3         5W40                   1       110.006001 -0.937367 -81.08929   \n",
       "4         5W40                   1       110.008001 -0.937688 -81.85248   \n",
       "...        ...                 ...              ...       ...       ...   \n",
       "29995     5W40                   3       129.991999 -1.218622 -68.96004   \n",
       "29996     5W40                   3       129.993999 -1.219937 -68.52842   \n",
       "29997     5W40                   3       129.996000 -1.218071 -68.07800   \n",
       "29998     5W40                   3       129.998000 -1.216918 -67.00558   \n",
       "29999     5W40                   3       130.000000 -1.217964 -66.89753   \n",
       "\n",
       "       S12 (db)  S22 (db)  \n",
       "0     -77.62081 -1.257170  \n",
       "1     -77.83958 -1.258207  \n",
       "2     -84.84537 -1.257372  \n",
       "3     -79.05251 -1.256756  \n",
       "4     -76.89525 -1.258880  \n",
       "...         ...       ...  \n",
       "29995 -69.57349 -1.410442  \n",
       "29996 -69.34859 -1.410999  \n",
       "29997 -68.26876 -1.408467  \n",
       "29998 -68.12305 -1.410605  \n",
       "29999 -67.89797 -1.410424  \n",
       "\n",
       "[30000 rows x 7 columns]>"
      ]
     },
     "execution_count": 18,
     "metadata": {},
     "output_type": "execute_result"
    }
   ],
   "execution_count": 18
  },
  {
   "metadata": {
    "ExecuteTime": {
     "end_time": "2024-10-29T14:02:48.938597Z",
     "start_time": "2024-10-29T14:02:48.922333Z"
    }
   },
   "cell_type": "code",
   "source": [
    "#assegura somente óleo de girassol lido\n",
    "for name in df_synthetic[\"OIL NAME\"]:\n",
    "    if name != \"5W40\":\n",
    "        print(\"Diferente de 5W40\")"
   ],
   "id": "2642571febd29b76",
   "outputs": [],
   "execution_count": 19
  },
  {
   "metadata": {
    "ExecuteTime": {
     "end_time": "2024-10-29T14:02:49.182201Z",
     "start_time": "2024-10-29T14:02:48.958065Z"
    }
   },
   "cell_type": "code",
   "source": [
    "#cria .csv caso precise no futuro.\n",
    "path_save_csv = os.path.join(script_directory,'..','..', 'oil_data','oil_data','CSVs')\n",
    "if not os.path.exists(path_save_csv):\n",
    "   os.makedirs(path_save_csv)\n",
    "df_synthetic.to_csv(path_save_csv + '/5W40_measurements.csv')"
   ],
   "id": "efa52a6edcc00df7",
   "outputs": [],
   "execution_count": 20
  },
  {
   "metadata": {
    "ExecuteTime": {
     "end_time": "2024-10-29T14:02:49.199886Z",
     "start_time": "2024-10-29T14:02:49.195336Z"
    }
   },
   "cell_type": "code",
   "source": [
    "def average_measurements(dataframe):\n",
    "    #agrupa valores por frequência e calcula média do que interessa\n",
    "    return dataframe.groupby('FREQUENCY (MHZ)', as_index=False)['S21 (db)'].mean()"
   ],
   "id": "715ba63364ad15be",
   "outputs": [],
   "execution_count": 21
  },
  {
   "metadata": {
    "ExecuteTime": {
     "end_time": "2024-10-29T14:02:49.227487Z",
     "start_time": "2024-10-29T14:02:49.215109Z"
    }
   },
   "cell_type": "code",
   "source": "df_5W40_s21 = average_measurements(df_synthetic)",
   "id": "297aaa76ab2db707",
   "outputs": [],
   "execution_count": 22
  },
  {
   "metadata": {
    "ExecuteTime": {
     "end_time": "2024-10-29T14:02:49.272351Z",
     "start_time": "2024-10-29T14:02:49.253340Z"
    }
   },
   "cell_type": "code",
   "source": "df_5W40_s21.info\n",
   "id": "9ddeac11d9505600",
   "outputs": [
    {
     "data": {
      "text/plain": [
       "<bound method DataFrame.info of       FREQUENCY (MHZ)   S21 (db)\n",
       "0          110.000000 -79.379923\n",
       "1          110.002000 -78.400307\n",
       "2          110.004000 -81.616050\n",
       "3          110.006001 -80.213143\n",
       "4          110.008001 -81.707570\n",
       "...               ...        ...\n",
       "9995       129.991999 -70.158250\n",
       "9996       129.993999 -68.782823\n",
       "9997       129.996000 -68.725670\n",
       "9998       129.998000 -68.070753\n",
       "9999       130.000000 -66.950223\n",
       "\n",
       "[10000 rows x 2 columns]>"
      ]
     },
     "execution_count": 23,
     "metadata": {},
     "output_type": "execute_result"
    }
   ],
   "execution_count": 23
  },
  {
   "metadata": {
    "ExecuteTime": {
     "end_time": "2024-10-29T14:02:49.419152Z",
     "start_time": "2024-10-29T14:02:49.372854Z"
    }
   },
   "cell_type": "code",
   "source": [
    "#cria .csv caso precise no futuro.\n",
    "path_save_csv_processed = os.path.join(script_directory,'..','..', 'oil_data','oil_data','CSVs','processed')\n",
    "if not os.path.exists(path_save_csv_processed):\n",
    "   os.makedirs(path_save_csv_processed)\n",
    "df_5W40_s21.to_csv(path_save_csv_processed + '/5W40_measurements_processed.csv')"
   ],
   "id": "ca1f371ae383db4b",
   "outputs": [],
   "execution_count": 24
  }
 ],
 "metadata": {
  "kernelspec": {
   "display_name": "Python 3",
   "language": "python",
   "name": "python3"
  },
  "language_info": {
   "codemirror_mode": {
    "name": "ipython",
    "version": 2
   },
   "file_extension": ".py",
   "mimetype": "text/x-python",
   "name": "python",
   "nbconvert_exporter": "python",
   "pygments_lexer": "ipython2",
   "version": "2.7.6"
  }
 },
 "nbformat": 4,
 "nbformat_minor": 5
}
