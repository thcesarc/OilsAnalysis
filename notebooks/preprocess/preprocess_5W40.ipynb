{
 "cells": [
  {
   "metadata": {},
   "cell_type": "markdown",
   "source": "#### Imports",
   "id": "72e552c00f447386"
  },
  {
   "cell_type": "code",
   "id": "initial_id",
   "metadata": {
    "collapsed": true,
    "ExecuteTime": {
     "end_time": "2024-11-01T12:14:51.343877Z",
     "start_time": "2024-11-01T12:14:51.298771Z"
    }
   },
   "source": [
    "import os\n",
    "import re\n",
    "import skrf as rf\n",
    "import pandas as pd"
   ],
   "outputs": [],
   "execution_count": 9
  },
  {
   "metadata": {},
   "cell_type": "markdown",
   "source": "#### Paths",
   "id": "a648914a7d62e301"
  },
  {
   "metadata": {
    "ExecuteTime": {
     "end_time": "2024-11-01T12:14:51.370048Z",
     "start_time": "2024-11-01T12:14:51.353682Z"
    }
   },
   "cell_type": "code",
   "source": [
    "script_directory = os.getcwd()#obtem diretório atual\n",
    "s2ps_path = os.path.join(script_directory,'..','..','oil_data','oil_data') #cria string caminho para todos os .s2p"
   ],
   "id": "ce5b1b2db8906c6d",
   "outputs": [],
   "execution_count": 10
  },
  {
   "metadata": {},
   "cell_type": "markdown",
   "source": "#### Regex",
   "id": "13c3bb9d48c2ad0a"
  },
  {
   "metadata": {
    "ExecuteTime": {
     "end_time": "2024-11-01T12:14:51.473019Z",
     "start_time": "2024-11-01T12:14:51.464306Z"
    }
   },
   "cell_type": "code",
   "source": "regex = r'SAW_06_02_2024_OIL_5W40_(\\d+)\\.S2P'",
   "id": "12a97a9cae9354dc",
   "outputs": [],
   "execution_count": 11
  },
  {
   "metadata": {
    "ExecuteTime": {
     "end_time": "2024-11-01T12:14:51.508102Z",
     "start_time": "2024-11-01T12:14:51.491769Z"
    }
   },
   "cell_type": "code",
   "source": [
    "def read_s2p_data(regex, path):\n",
    "    dfs = []#lista para ocncatenar todos os dicts de cada medição \n",
    "    for filename in os.listdir(path):\n",
    "        match = re.match(regex, filename)\n",
    "        if match:\n",
    "            #obtem informação do nome do arquivo\n",
    "            oil_name = \"5W40\"\n",
    "            measurement_number = int(match.group(1))\n",
    "            \n",
    "            #carrega arquivo\n",
    "            path_to_oil = os.path.join(path, filename)\n",
    "            s2p_file = rf.Network(path_to_oil)\n",
    "            \n",
    "            #extrai frequência e parâmetros S do objeto Network\n",
    "            frequency = s2p_file.f\n",
    "            s_parameters = s2p_file.s_db[:,1,0]\n",
    "            phase = s2p_file.s_deg[:,1,0]\n",
    "            \n",
    "            #Dataframe com informações selecionadas\n",
    "            individual_oil_dict = {\n",
    "                'OIL NAME': oil_name,\n",
    "                'OIL TYPE': 'SYNTHETIC',\n",
    "                'MEASUREMENT NUMBER': measurement_number,\n",
    "                'FREQUENCY (MHZ)':frequency/1000000,\n",
    "                'S21 (db)' : s_parameters,\n",
    "                'PHASE (DEG)': phase,\n",
    "            }\n",
    "            df = pd.DataFrame.from_dict(individual_oil_dict)\n",
    "            df = df.nlargest(3, 'S21 (db)')\n",
    "            dfs.append(df)\n",
    "            \n",
    "    dataframe = pd.concat(dfs, ignore_index=True)\n",
    "    return dataframe"
   ],
   "id": "bf11a9b51417b9b8",
   "outputs": [],
   "execution_count": 12
  },
  {
   "metadata": {},
   "cell_type": "markdown",
   "source": "#### Read Dataframes",
   "id": "383cb83e11babedf"
  },
  {
   "metadata": {
    "ExecuteTime": {
     "end_time": "2024-11-01T12:14:51.791534Z",
     "start_time": "2024-11-01T12:14:51.527906Z"
    }
   },
   "cell_type": "code",
   "source": "df_synthetic = read_s2p_data(regex, s2ps_path)",
   "id": "f6f165c36a0897e4",
   "outputs": [],
   "execution_count": 13
  },
  {
   "metadata": {
    "ExecuteTime": {
     "end_time": "2024-11-01T12:14:51.826463Z",
     "start_time": "2024-11-01T12:14:51.814359Z"
    }
   },
   "cell_type": "code",
   "source": [
    "#assegura somente óleo de 5W40 lido\n",
    "for name in df_synthetic[\"OIL NAME\"]:\n",
    "    if name != \"5W40\":\n",
    "        print(\"Diferente de 5W40\")"
   ],
   "id": "2642571febd29b76",
   "outputs": [],
   "execution_count": 14
  },
  {
   "metadata": {
    "ExecuteTime": {
     "end_time": "2024-11-01T12:14:51.861847Z",
     "start_time": "2024-11-01T12:14:51.844638Z"
    }
   },
   "cell_type": "code",
   "source": [
    "#cria .csv caso precise no futuro.\n",
    "path_save_csv = os.path.join(script_directory,'..','..', 'oil_data','oil_data','CSVs')\n",
    "if not os.path.exists(path_save_csv):\n",
    "   os.makedirs(path_save_csv)\n",
    "df_synthetic.to_csv(path_save_csv + '/5W40_measurements.csv')"
   ],
   "id": "efa52a6edcc00df7",
   "outputs": [],
   "execution_count": 15
  },
  {
   "metadata": {
    "ExecuteTime": {
     "end_time": "2024-11-01T12:14:51.897203Z",
     "start_time": "2024-11-01T12:14:51.882410Z"
    }
   },
   "cell_type": "code",
   "source": "df_synthetic.info",
   "id": "d98ed6470345e0bb",
   "outputs": [
    {
     "data": {
      "text/plain": [
       "<bound method DataFrame.info of   OIL NAME   OIL TYPE  MEASUREMENT NUMBER  FREQUENCY (MHZ)  S21 (db)  \\\n",
       "0     5W40  SYNTHETIC                   1       118.876888 -57.34062   \n",
       "1     5W40  SYNTHETIC                   1       118.898890 -57.44957   \n",
       "2     5W40  SYNTHETIC                   1       118.888889 -57.47217   \n",
       "3     5W40  SYNTHETIC                   2       118.876888 -57.19274   \n",
       "4     5W40  SYNTHETIC                   2       118.878888 -57.42343   \n",
       "5     5W40  SYNTHETIC                   2       118.868887 -57.49381   \n",
       "6     5W40  SYNTHETIC                   3       118.946895 -57.34936   \n",
       "7     5W40  SYNTHETIC                   3       118.870887 -57.56983   \n",
       "8     5W40  SYNTHETIC                   3       118.880888 -57.61698   \n",
       "\n",
       "   PHASE (DEG)  \n",
       "0     179.4519  \n",
       "1     161.2556  \n",
       "2     167.0403  \n",
       "3     176.9566  \n",
       "4     174.6133  \n",
       "5    -176.6842  \n",
       "6     140.2582  \n",
       "7    -170.9507  \n",
       "8    -174.3236  >"
      ]
     },
     "execution_count": 16,
     "metadata": {},
     "output_type": "execute_result"
    }
   ],
   "execution_count": 16
  }
 ],
 "metadata": {
  "kernelspec": {
   "display_name": "Python 3",
   "language": "python",
   "name": "python3"
  },
  "language_info": {
   "codemirror_mode": {
    "name": "ipython",
    "version": 2
   },
   "file_extension": ".py",
   "mimetype": "text/x-python",
   "name": "python",
   "nbconvert_exporter": "python",
   "pygments_lexer": "ipython2",
   "version": "2.7.6"
  }
 },
 "nbformat": 4,
 "nbformat_minor": 5
}
