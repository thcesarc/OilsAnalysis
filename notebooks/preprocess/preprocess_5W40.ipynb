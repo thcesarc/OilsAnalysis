{
 "cells": [
  {
   "metadata": {},
   "cell_type": "markdown",
   "source": "#### Imports",
   "id": "72e552c00f447386"
  },
  {
   "cell_type": "code",
   "id": "initial_id",
   "metadata": {
    "collapsed": true,
    "ExecuteTime": {
     "end_time": "2024-10-31T19:21:16.221934Z",
     "start_time": "2024-10-31T19:21:14.095104Z"
    }
   },
   "source": [
    "import os\n",
    "import re\n",
    "import skrf as rf\n",
    "import pandas as pd"
   ],
   "outputs": [],
   "execution_count": 1
  },
  {
   "metadata": {},
   "cell_type": "markdown",
   "source": "#### Paths",
   "id": "a648914a7d62e301"
  },
  {
   "metadata": {
    "ExecuteTime": {
     "end_time": "2024-10-31T19:21:16.233819Z",
     "start_time": "2024-10-31T19:21:16.226402Z"
    }
   },
   "cell_type": "code",
   "source": [
    "script_directory = os.getcwd()#obtem diretório atual\n",
    "s2ps_path = os.path.join(script_directory,'..','..','oil_data','oil_data') #cria string caminho para todos os .s2p"
   ],
   "id": "ce5b1b2db8906c6d",
   "outputs": [],
   "execution_count": 2
  },
  {
   "metadata": {},
   "cell_type": "markdown",
   "source": "#### Regex",
   "id": "13c3bb9d48c2ad0a"
  },
  {
   "metadata": {
    "ExecuteTime": {
     "end_time": "2024-10-31T19:21:16.358307Z",
     "start_time": "2024-10-31T19:21:16.353162Z"
    }
   },
   "cell_type": "code",
   "source": "regex = r'SAW_06_02_2024_OIL_5W40_(\\d+)\\.S2P'",
   "id": "12a97a9cae9354dc",
   "outputs": [],
   "execution_count": 3
  },
  {
   "metadata": {
    "ExecuteTime": {
     "end_time": "2024-10-31T19:21:16.384307Z",
     "start_time": "2024-10-31T19:21:16.373238Z"
    }
   },
   "cell_type": "code",
   "source": [
    "def read_s2p_data(regex, path):\n",
    "    dfs = []#lista para ocncatenar todos os dicts de cada medição \n",
    "    for filename in os.listdir(path):\n",
    "        match = re.match(regex, filename)\n",
    "        if match:\n",
    "            #obtem informação do nome do arquivo\n",
    "            oil_name = \"5W40\"\n",
    "            measurement_number = int(match.group(1))\n",
    "            \n",
    "            #carrega arquivo\n",
    "            path_to_oil = os.path.join(path, filename)\n",
    "            s2p_file = rf.Network(path_to_oil)\n",
    "            \n",
    "            #extrai frequência e parâmetros S do objeto Network\n",
    "            frequency = s2p_file.f\n",
    "            s_parameters = s2p_file.s_db[:,1,0]\n",
    "            phase = s2p_file.s_deg[:,1,0]\n",
    "            \n",
    "            #Dataframe com informações selecionadas\n",
    "            individual_oil_dict = {\n",
    "                'OIL NAME': oil_name,\n",
    "                'MEASUREMENT NUMBER': measurement_number,\n",
    "                'FREQUENCY (MHZ)':frequency/1000000,\n",
    "                'S21 (db)' : s_parameters,\n",
    "                'PHASE (DEG)': phase,\n",
    "            }\n",
    "            df = pd.DataFrame.from_dict(individual_oil_dict)\n",
    "            df = df.nlargest(3, 'S21 (db)')\n",
    "            dfs.append(df)\n",
    "            \n",
    "    dataframe = pd.concat(dfs, ignore_index=True)\n",
    "    return dataframe"
   ],
   "id": "bf11a9b51417b9b8",
   "outputs": [],
   "execution_count": 4
  },
  {
   "metadata": {},
   "cell_type": "markdown",
   "source": "#### Read Dataframes",
   "id": "383cb83e11babedf"
  },
  {
   "metadata": {
    "ExecuteTime": {
     "end_time": "2024-10-31T19:21:16.590970Z",
     "start_time": "2024-10-31T19:21:16.399514Z"
    }
   },
   "cell_type": "code",
   "source": "df_synthetic = read_s2p_data(regex, s2ps_path)",
   "id": "f6f165c36a0897e4",
   "outputs": [],
   "execution_count": 5
  },
  {
   "metadata": {
    "ExecuteTime": {
     "end_time": "2024-10-31T19:21:16.611445Z",
     "start_time": "2024-10-31T19:21:16.602881Z"
    }
   },
   "cell_type": "code",
   "source": [
    "#assegura somente óleo de 5W40 lido\n",
    "for name in df_synthetic[\"OIL NAME\"]:\n",
    "    if name != \"5W40\":\n",
    "        print(\"Diferente de 5W40\")"
   ],
   "id": "2642571febd29b76",
   "outputs": [],
   "execution_count": 6
  },
  {
   "metadata": {
    "ExecuteTime": {
     "end_time": "2024-10-31T19:21:16.637073Z",
     "start_time": "2024-10-31T19:21:16.624244Z"
    }
   },
   "cell_type": "code",
   "source": [
    "#cria .csv caso precise no futuro.\n",
    "path_save_csv = os.path.join(script_directory,'..','..', 'oil_data','oil_data','CSVs')\n",
    "if not os.path.exists(path_save_csv):\n",
    "   os.makedirs(path_save_csv)\n",
    "df_synthetic.to_csv(path_save_csv + '/5W40_measurements.csv')"
   ],
   "id": "efa52a6edcc00df7",
   "outputs": [],
   "execution_count": 7
  },
  {
   "metadata": {
    "ExecuteTime": {
     "end_time": "2024-10-31T19:21:16.664569Z",
     "start_time": "2024-10-31T19:21:16.651290Z"
    }
   },
   "cell_type": "code",
   "source": "df_synthetic.info",
   "id": "d98ed6470345e0bb",
   "outputs": [
    {
     "data": {
      "text/plain": [
       "<bound method DataFrame.info of   OIL NAME  MEASUREMENT NUMBER  FREQUENCY (MHZ)  S21 (db)  PHASE (DEG)\n",
       "0     5W40                   1       118.876888 -57.34062     179.4519\n",
       "1     5W40                   1       118.898890 -57.44957     161.2556\n",
       "2     5W40                   1       118.888889 -57.47217     167.0403\n",
       "3     5W40                   2       118.876888 -57.19274     176.9566\n",
       "4     5W40                   2       118.878888 -57.42343     174.6133\n",
       "5     5W40                   2       118.868887 -57.49381    -176.6842\n",
       "6     5W40                   3       118.946895 -57.34936     140.2582\n",
       "7     5W40                   3       118.870887 -57.56983    -170.9507\n",
       "8     5W40                   3       118.880888 -57.61698    -174.3236>"
      ]
     },
     "execution_count": 8,
     "metadata": {},
     "output_type": "execute_result"
    }
   ],
   "execution_count": 8
  }
 ],
 "metadata": {
  "kernelspec": {
   "display_name": "Python 3",
   "language": "python",
   "name": "python3"
  },
  "language_info": {
   "codemirror_mode": {
    "name": "ipython",
    "version": 2
   },
   "file_extension": ".py",
   "mimetype": "text/x-python",
   "name": "python",
   "nbconvert_exporter": "python",
   "pygments_lexer": "ipython2",
   "version": "2.7.6"
  }
 },
 "nbformat": 4,
 "nbformat_minor": 5
}
