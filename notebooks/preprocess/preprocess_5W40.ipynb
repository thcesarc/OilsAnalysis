{
 "cells": [
  {
   "metadata": {},
   "cell_type": "markdown",
   "source": "#### Imports",
   "id": "72e552c00f447386"
  },
  {
   "cell_type": "code",
   "id": "initial_id",
   "metadata": {
    "collapsed": true,
    "ExecuteTime": {
     "end_time": "2024-10-29T13:54:27.705335Z",
     "start_time": "2024-10-29T13:54:27.690186Z"
    }
   },
   "source": [
    "import os\n",
    "import re\n",
    "import skrf as rf\n",
    "import pandas as pd"
   ],
   "outputs": [],
   "execution_count": 36
  },
  {
   "metadata": {},
   "cell_type": "markdown",
   "source": "#### Paths",
   "id": "a648914a7d62e301"
  },
  {
   "metadata": {
    "ExecuteTime": {
     "end_time": "2024-10-29T13:54:27.721771Z",
     "start_time": "2024-10-29T13:54:27.709809Z"
    }
   },
   "cell_type": "code",
   "source": [
    "script_directory = os.getcwd()#obtem diretório atual\n",
    "s2ps_path = os.path.join(script_directory,'..','..','oil_data','oil_data') #cria string caminho para todos os .s2p"
   ],
   "id": "ce5b1b2db8906c6d",
   "outputs": [],
   "execution_count": 37
  },
  {
   "metadata": {},
   "cell_type": "markdown",
   "source": "#### Regex = hell",
   "id": "13c3bb9d48c2ad0a"
  },
  {
   "metadata": {
    "ExecuteTime": {
     "end_time": "2024-10-29T13:54:27.744296Z",
     "start_time": "2024-10-29T13:54:27.737787Z"
    }
   },
   "cell_type": "code",
   "source": "regex = r'SAW_06_02_2024_OIL_5W30_(\\d+)\\.S2P'",
   "id": "12a97a9cae9354dc",
   "outputs": [],
   "execution_count": 38
  },
  {
   "metadata": {
    "ExecuteTime": {
     "end_time": "2024-10-29T13:54:27.779531Z",
     "start_time": "2024-10-29T13:54:27.763025Z"
    }
   },
   "cell_type": "code",
   "source": [
    "def read_s2p_vegetal_data(regex, path):\n",
    "    dfs = []#lista para ocncatenar todos os dicts de cada medição \n",
    "    for filename in os.listdir(path):\n",
    "        match = re.match(regex, filename)\n",
    "        if match:\n",
    "            #obtem informação do nome do arquivo\n",
    "            oil_name = \"5W30\"\n",
    "            measurement_number = int(match.group(1))\n",
    "            \n",
    "            #carrega arquivo\n",
    "            path_to_oil = os.path.join(path, filename)\n",
    "            s2p_file = rf.Network(path_to_oil)\n",
    "            \n",
    "            #extrai frequência e parâmetros S do objeto Network\n",
    "            frequency = s2p_file.f\n",
    "            s_parameters = s2p_file.s_db\n",
    "            \n",
    "            #Dataframe com informações do objeto Network\n",
    "            individual_oil_dict = {\n",
    "                'OIL NAME': oil_name,\n",
    "                'MEASUREMENT NUMBER': measurement_number,\n",
    "                'FREQUENCY (MHZ)':frequency/1000000,\n",
    "                'S11 (db)' : s_parameters[:,0,0],\n",
    "                'S21 (db)' : s_parameters[:,1,0],\n",
    "                'S12 (db)' : s_parameters[:,0,1],\n",
    "                'S22 (db)' : s_parameters[:,1,1],\n",
    "            }\n",
    "            df = pd.DataFrame.from_dict(individual_oil_dict)\n",
    "            dfs.append(df)\n",
    "            \n",
    "    dataframe = pd.concat(dfs, ignore_index=True)\n",
    "    return dataframe"
   ],
   "id": "bf11a9b51417b9b8",
   "outputs": [],
   "execution_count": 39
  },
  {
   "metadata": {},
   "cell_type": "markdown",
   "source": "#### Read Dataframes",
   "id": "383cb83e11babedf"
  },
  {
   "metadata": {
    "ExecuteTime": {
     "end_time": "2024-10-29T13:54:27.969490Z",
     "start_time": "2024-10-29T13:54:27.797551Z"
    }
   },
   "cell_type": "code",
   "source": "df_synthetic = read_s2p_vegetal_data(regex, s2ps_path)",
   "id": "f6f165c36a0897e4",
   "outputs": [],
   "execution_count": 40
  },
  {
   "metadata": {
    "ExecuteTime": {
     "end_time": "2024-10-29T13:54:28.005448Z",
     "start_time": "2024-10-29T13:54:27.990150Z"
    }
   },
   "cell_type": "code",
   "source": "df_synthetic.info",
   "id": "75ca2723a2976681",
   "outputs": [
    {
     "data": {
      "text/plain": [
       "<bound method DataFrame.info of       OIL NAME  MEASUREMENT NUMBER  FREQUENCY (MHZ)  S11 (db)  S21 (db)  \\\n",
       "0         5W30                   1       110.000000 -0.952009 -84.93931   \n",
       "1         5W30                   1       110.002000 -0.953180 -79.43321   \n",
       "2         5W30                   1       110.004000 -0.950550 -85.23255   \n",
       "3         5W30                   1       110.006001 -0.949279 -83.22342   \n",
       "4         5W30                   1       110.008001 -0.951772 -81.08348   \n",
       "...        ...                 ...              ...       ...       ...   \n",
       "29995     5W30                   3       129.991999 -1.269503 -70.81112   \n",
       "29996     5W30                   3       129.993999 -1.270841 -68.71010   \n",
       "29997     5W30                   3       129.996000 -1.272502 -69.69337   \n",
       "29998     5W30                   3       129.998000 -1.270890 -68.21421   \n",
       "29999     5W30                   3       130.000000 -1.270329 -67.68703   \n",
       "\n",
       "       S12 (db)  S22 (db)  \n",
       "0     -76.00990 -1.240048  \n",
       "1     -80.05309 -1.243286  \n",
       "2     -78.31358 -1.242258  \n",
       "3     -75.72502 -1.242580  \n",
       "4     -80.79340 -1.240972  \n",
       "...         ...       ...  \n",
       "29995 -72.18218 -1.677531  \n",
       "29996 -70.32899 -1.679527  \n",
       "29997 -69.94290 -1.675645  \n",
       "29998 -68.70516 -1.677650  \n",
       "29999 -67.74439 -1.675983  \n",
       "\n",
       "[30000 rows x 7 columns]>"
      ]
     },
     "execution_count": 41,
     "metadata": {},
     "output_type": "execute_result"
    }
   ],
   "execution_count": 41
  },
  {
   "metadata": {
    "ExecuteTime": {
     "end_time": "2024-10-29T13:54:28.107009Z",
     "start_time": "2024-10-29T13:54:28.095336Z"
    }
   },
   "cell_type": "code",
   "source": [
    "#assegura somente óleo de girassol lido\n",
    "for name in df_synthetic[\"OIL NAME\"]:\n",
    "    if name != \"5W30\":\n",
    "        print(\"Diferente de 5W30\")"
   ],
   "id": "2642571febd29b76",
   "outputs": [],
   "execution_count": 42
  },
  {
   "metadata": {
    "ExecuteTime": {
     "end_time": "2024-10-29T13:54:28.285324Z",
     "start_time": "2024-10-29T13:54:28.137661Z"
    }
   },
   "cell_type": "code",
   "source": [
    "#cria .csv caso precise no futuro.\n",
    "path_save_csv = os.path.join(script_directory,'..','..', 'oil_data','oil_data','CSVs')\n",
    "if not os.path.exists(path_save_csv):\n",
    "   os.makedirs(path_save_csv)\n",
    "df_synthetic.to_csv(path_save_csv + '/5W30_measurements.csv')"
   ],
   "id": "efa52a6edcc00df7",
   "outputs": [],
   "execution_count": 43
  },
  {
   "metadata": {
    "ExecuteTime": {
     "end_time": "2024-10-29T13:54:28.310398Z",
     "start_time": "2024-10-29T13:54:28.301546Z"
    }
   },
   "cell_type": "code",
   "source": [
    "def average_measurements(dataframe):\n",
    "    #agrupa valores por frequência e calcula média do que interessa\n",
    "    return dataframe.groupby('FREQUENCY (MHZ)', as_index=False)['S21 (db)'].mean()"
   ],
   "id": "715ba63364ad15be",
   "outputs": [],
   "execution_count": 44
  },
  {
   "metadata": {
    "ExecuteTime": {
     "end_time": "2024-10-29T13:54:28.353271Z",
     "start_time": "2024-10-29T13:54:28.344548Z"
    }
   },
   "cell_type": "code",
   "source": "df_5W30_s21 = average_measurements(df_synthetic)",
   "id": "297aaa76ab2db707",
   "outputs": [],
   "execution_count": 45
  },
  {
   "metadata": {
    "ExecuteTime": {
     "end_time": "2024-10-29T13:54:28.379187Z",
     "start_time": "2024-10-29T13:54:28.369277Z"
    }
   },
   "cell_type": "code",
   "source": "df_5W30_s21.info\n",
   "id": "9ddeac11d9505600",
   "outputs": [
    {
     "data": {
      "text/plain": [
       "<bound method DataFrame.info of       FREQUENCY (MHZ)   S21 (db)\n",
       "0          110.000000 -82.069490\n",
       "1          110.002000 -80.526490\n",
       "2          110.004000 -80.108923\n",
       "3          110.006001 -80.267000\n",
       "4          110.008001 -80.682017\n",
       "...               ...        ...\n",
       "9995       129.991999 -71.124490\n",
       "9996       129.993999 -70.196373\n",
       "9997       129.996000 -69.513377\n",
       "9998       129.998000 -68.656497\n",
       "9999       130.000000 -68.407293\n",
       "\n",
       "[10000 rows x 2 columns]>"
      ]
     },
     "execution_count": 46,
     "metadata": {},
     "output_type": "execute_result"
    }
   ],
   "execution_count": 46
  },
  {
   "metadata": {
    "ExecuteTime": {
     "end_time": "2024-10-29T13:54:28.638483Z",
     "start_time": "2024-10-29T13:54:28.450258Z"
    }
   },
   "cell_type": "code",
   "source": [
    "#cria .csv caso precise no futuro.\n",
    "path_save_csv_processed = os.path.join(script_directory,'..','..', 'oil_data','oil_data','CSVs','processed')\n",
    "if not os.path.exists(path_save_csv_processed):\n",
    "   os.makedirs(path_save_csv_processed)\n",
    "df_synthetic.to_csv(path_save_csv_processed + '/5W30_measurements_processed.csv')"
   ],
   "id": "ca1f371ae383db4b",
   "outputs": [],
   "execution_count": 47
  }
 ],
 "metadata": {
  "kernelspec": {
   "display_name": "Python 3",
   "language": "python",
   "name": "python3"
  },
  "language_info": {
   "codemirror_mode": {
    "name": "ipython",
    "version": 2
   },
   "file_extension": ".py",
   "mimetype": "text/x-python",
   "name": "python",
   "nbconvert_exporter": "python",
   "pygments_lexer": "ipython2",
   "version": "2.7.6"
  }
 },
 "nbformat": 4,
 "nbformat_minor": 5
}
