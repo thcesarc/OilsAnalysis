{
 "cells": [
  {
   "metadata": {},
   "cell_type": "markdown",
   "source": "#### Imports",
   "id": "72e552c00f447386"
  },
  {
   "cell_type": "code",
   "id": "initial_id",
   "metadata": {
    "collapsed": true,
    "ExecuteTime": {
     "end_time": "2024-10-29T13:03:37.907190Z",
     "start_time": "2024-10-29T13:03:37.887720Z"
    }
   },
   "source": [
    "import os\n",
    "import re\n",
    "import skrf as rf\n",
    "import pandas as pd"
   ],
   "outputs": [],
   "execution_count": 25
  },
  {
   "metadata": {},
   "cell_type": "markdown",
   "source": "#### Paths",
   "id": "a648914a7d62e301"
  },
  {
   "metadata": {
    "ExecuteTime": {
     "end_time": "2024-10-29T13:03:37.916897Z",
     "start_time": "2024-10-29T13:03:37.912686Z"
    }
   },
   "cell_type": "code",
   "source": [
    "script_directory = os.getcwd()#obtem diretório atual\n",
    "s2ps_path = os.path.join(script_directory, 'oil_data','oil_data') #cria string caminho para todos os .s2p"
   ],
   "id": "ce5b1b2db8906c6d",
   "outputs": [],
   "execution_count": 26
  },
  {
   "metadata": {},
   "cell_type": "markdown",
   "source": "#### Regex = hell",
   "id": "13c3bb9d48c2ad0a"
  },
  {
   "metadata": {
    "ExecuteTime": {
     "end_time": "2024-10-29T13:03:37.934337Z",
     "start_time": "2024-10-29T13:03:37.929049Z"
    }
   },
   "cell_type": "code",
   "source": [
    "regex = r'SAW_06_02_2024_OIL_MILHO_(\\d+)\\.S2P'\n",
    "#SAW_06_02_2024_OIL_GIRASSOL_01.S2P"
   ],
   "id": "12a97a9cae9354dc",
   "outputs": [],
   "execution_count": 27
  },
  {
   "metadata": {
    "ExecuteTime": {
     "end_time": "2024-10-29T13:03:37.956747Z",
     "start_time": "2024-10-29T13:03:37.948638Z"
    }
   },
   "cell_type": "code",
   "source": [
    "def read_s2p_vegetal_data(regex, path):\n",
    "    dfs = []#lista para ocncatenar todos os dicts de cada medição \n",
    "    for filename in os.listdir(path):\n",
    "        match = re.match(regex, filename)\n",
    "        if match:\n",
    "            #obtem informação do nome do arquivo\n",
    "            oil_name = \"CORN\"\n",
    "            measurement_number = int(match.group(1))\n",
    "            \n",
    "            #carrega arquivo\n",
    "            path_to_oil = os.path.join(path, filename)\n",
    "            s2p_file = rf.Network(path_to_oil)\n",
    "            \n",
    "            #extrai frequência e parâmetros S do objeto Network\n",
    "            frequency = s2p_file.f\n",
    "            s_parameters = s2p_file.s_db\n",
    "            \n",
    "            #Dataframe com informações do objeto Network\n",
    "            individual_oil_dict = {\n",
    "                'OIL NAME': oil_name,\n",
    "                'MEASUREMENT NUMBER': measurement_number,\n",
    "                'FREQUENCY (MHZ)':frequency/1000000,\n",
    "                'S11 (db)' : s_parameters[:,0,0],\n",
    "                'S21 (db)' : s_parameters[:,1,0],\n",
    "                'S12 (db)' : s_parameters[:,0,1],\n",
    "                'S22 (db)' : s_parameters[:,1,1],\n",
    "            }\n",
    "            df = pd.DataFrame.from_dict(individual_oil_dict)\n",
    "            dfs.append(df)\n",
    "            \n",
    "    dataframe = pd.concat(dfs, ignore_index=True)\n",
    "    return dataframe"
   ],
   "id": "bf11a9b51417b9b8",
   "outputs": [],
   "execution_count": 28
  },
  {
   "metadata": {},
   "cell_type": "markdown",
   "source": "#### Read Dataframes",
   "id": "383cb83e11babedf"
  },
  {
   "metadata": {
    "ExecuteTime": {
     "end_time": "2024-10-29T13:03:38.108906Z",
     "start_time": "2024-10-29T13:03:37.971220Z"
    }
   },
   "cell_type": "code",
   "source": "df_vegetal = read_s2p_vegetal_data(regex, s2ps_path)",
   "id": "f6f165c36a0897e4",
   "outputs": [],
   "execution_count": 29
  },
  {
   "metadata": {
    "ExecuteTime": {
     "end_time": "2024-10-29T13:03:38.142400Z",
     "start_time": "2024-10-29T13:03:38.130780Z"
    }
   },
   "cell_type": "code",
   "source": "df_vegetal.info",
   "id": "75ca2723a2976681",
   "outputs": [
    {
     "data": {
      "text/plain": [
       "<bound method DataFrame.info of       OIL NAME  MEASUREMENT NUMBER  FREQUENCY (MHZ)  S11 (db)  S21 (db)  \\\n",
       "0         CORN                   1       110.000000 -0.977038 -79.53358   \n",
       "1         CORN                   1       110.002000 -0.977490 -77.64947   \n",
       "2         CORN                   1       110.004000 -0.975435 -81.50738   \n",
       "3         CORN                   1       110.006001 -0.977087 -78.02262   \n",
       "4         CORN                   1       110.008001 -0.978815 -78.01198   \n",
       "...        ...                 ...              ...       ...       ...   \n",
       "29995     CORN                   3       129.991999 -1.356632 -73.05645   \n",
       "29996     CORN                   3       129.993999 -1.357346 -71.35054   \n",
       "29997     CORN                   3       129.996000 -1.359289 -69.55155   \n",
       "29998     CORN                   3       129.998000 -1.358120 -68.45490   \n",
       "29999     CORN                   3       130.000000 -1.358705 -68.83554   \n",
       "\n",
       "       S12 (db)  S22 (db)  \n",
       "0     -78.71073 -1.020574  \n",
       "1     -76.38774 -1.019177  \n",
       "2     -77.87907 -1.018773  \n",
       "3     -79.56993 -1.017366  \n",
       "4     -79.71214 -1.020299  \n",
       "...         ...       ...  \n",
       "29995 -71.43012 -1.310358  \n",
       "29996 -69.92810 -1.310967  \n",
       "29997 -69.61455 -1.311082  \n",
       "29998 -68.94718 -1.310146  \n",
       "29999 -69.21010 -1.308130  \n",
       "\n",
       "[30000 rows x 7 columns]>"
      ]
     },
     "execution_count": 30,
     "metadata": {},
     "output_type": "execute_result"
    }
   ],
   "execution_count": 30
  },
  {
   "metadata": {
    "ExecuteTime": {
     "end_time": "2024-10-29T13:03:38.173553Z",
     "start_time": "2024-10-29T13:03:38.159399Z"
    }
   },
   "cell_type": "code",
   "source": [
    "#assegura somente óleo de girassol lido\n",
    "for name in df_vegetal[\"OIL NAME\"]:\n",
    "    if name != \"CORN\":\n",
    "        print(\"Diferente de milho\")"
   ],
   "id": "2642571febd29b76",
   "outputs": [],
   "execution_count": 31
  },
  {
   "metadata": {
    "ExecuteTime": {
     "end_time": "2024-10-29T13:03:38.405637Z",
     "start_time": "2024-10-29T13:03:38.186980Z"
    }
   },
   "cell_type": "code",
   "source": [
    "#cria .csv caso precise no futuro.\n",
    "path_save_csv = os.path.join(script_directory, 'oil_data','oil_data','CSVs')\n",
    "if not os.path.exists(path_save_csv):\n",
    "   os.makedirs(path_save_csv)\n",
    "df_vegetal.to_csv(path_save_csv + '/corn_measurements.csv')"
   ],
   "id": "efa52a6edcc00df7",
   "outputs": [],
   "execution_count": 32
  },
  {
   "metadata": {
    "ExecuteTime": {
     "end_time": "2024-10-29T13:03:38.430176Z",
     "start_time": "2024-10-29T13:03:38.422973Z"
    }
   },
   "cell_type": "code",
   "source": [
    "def average_measurements(dataframe):\n",
    "    #agrupa valores por frequência e calcula média do que interessa\n",
    "    return dataframe.groupby('FREQUENCY (MHZ)', as_index=False)['S21 (db)'].mean()"
   ],
   "id": "715ba63364ad15be",
   "outputs": [],
   "execution_count": 33
  },
  {
   "metadata": {
    "ExecuteTime": {
     "end_time": "2024-10-29T13:03:38.458572Z",
     "start_time": "2024-10-29T13:03:38.443999Z"
    }
   },
   "cell_type": "code",
   "source": "df_corn_s21 = average_measurements(df_vegetal)",
   "id": "297aaa76ab2db707",
   "outputs": [],
   "execution_count": 34
  },
  {
   "metadata": {
    "ExecuteTime": {
     "end_time": "2024-10-29T13:03:38.485193Z",
     "start_time": "2024-10-29T13:03:38.476553Z"
    }
   },
   "cell_type": "code",
   "source": "df_corn_s21.info\n",
   "id": "9ddeac11d9505600",
   "outputs": [
    {
     "data": {
      "text/plain": [
       "<bound method DataFrame.info of       FREQUENCY (MHZ)   S21 (db)\n",
       "0          110.000000 -77.934123\n",
       "1          110.002000 -78.218783\n",
       "2          110.004000 -79.051460\n",
       "3          110.006001 -80.088083\n",
       "4          110.008001 -81.159780\n",
       "...               ...        ...\n",
       "9995       129.991999 -70.879330\n",
       "9996       129.993999 -70.960103\n",
       "9997       129.996000 -70.076650\n",
       "9998       129.998000 -67.898483\n",
       "9999       130.000000 -67.998407\n",
       "\n",
       "[10000 rows x 2 columns]>"
      ]
     },
     "execution_count": 35,
     "metadata": {},
     "output_type": "execute_result"
    }
   ],
   "execution_count": 35
  },
  {
   "metadata": {
    "ExecuteTime": {
     "end_time": "2024-10-29T13:03:38.737287Z",
     "start_time": "2024-10-29T13:03:38.564642Z"
    }
   },
   "cell_type": "code",
   "source": [
    "#cria .csv caso precise no futuro.\n",
    "path_save_csv_processed = os.path.join(script_directory, 'oil_data','oil_data','CSVs','processed')\n",
    "if not os.path.exists(path_save_csv_processed):\n",
    "   os.makedirs(path_save_csv_processed)\n",
    "df_vegetal.to_csv(path_save_csv_processed + '/corn_measurements_processed.csv')"
   ],
   "id": "ca1f371ae383db4b",
   "outputs": [],
   "execution_count": 36
  }
 ],
 "metadata": {
  "kernelspec": {
   "display_name": "Python 3",
   "language": "python",
   "name": "python3"
  },
  "language_info": {
   "codemirror_mode": {
    "name": "ipython",
    "version": 2
   },
   "file_extension": ".py",
   "mimetype": "text/x-python",
   "name": "python",
   "nbconvert_exporter": "python",
   "pygments_lexer": "ipython2",
   "version": "2.7.6"
  }
 },
 "nbformat": 4,
 "nbformat_minor": 5
}
