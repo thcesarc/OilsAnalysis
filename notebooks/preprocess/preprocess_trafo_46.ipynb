{
 "cells": [
  {
   "metadata": {},
   "cell_type": "markdown",
   "source": "#### Imports",
   "id": "72e552c00f447386"
  },
  {
   "cell_type": "code",
   "id": "initial_id",
   "metadata": {
    "collapsed": true,
    "ExecuteTime": {
     "end_time": "2024-10-29T14:17:58.748607Z",
     "start_time": "2024-10-29T14:17:55.996420Z"
    }
   },
   "source": [
    "import os\n",
    "import re\n",
    "import skrf as rf\n",
    "import pandas as pd"
   ],
   "outputs": [],
   "execution_count": 1
  },
  {
   "metadata": {},
   "cell_type": "markdown",
   "source": "#### Paths",
   "id": "a648914a7d62e301"
  },
  {
   "metadata": {
    "ExecuteTime": {
     "end_time": "2024-10-29T14:17:58.758027Z",
     "start_time": "2024-10-29T14:17:58.748607Z"
    }
   },
   "cell_type": "code",
   "source": [
    "script_directory = os.getcwd()#obtem diretório atual\n",
    "s2ps_path = os.path.join(script_directory,'..','..','oil_data','oil_data') #cria string caminho para todos os .s2p"
   ],
   "id": "ce5b1b2db8906c6d",
   "outputs": [],
   "execution_count": 2
  },
  {
   "metadata": {},
   "cell_type": "markdown",
   "source": "#### Regex = hell",
   "id": "13c3bb9d48c2ad0a"
  },
  {
   "metadata": {
    "ExecuteTime": {
     "end_time": "2024-10-29T14:17:58.850557Z",
     "start_time": "2024-10-29T14:17:58.845154Z"
    }
   },
   "cell_type": "code",
   "source": "regex = r'SAW_06_02_2024_OIL_TRAFO_44_(\\d+)\\.S2P'",
   "id": "12a97a9cae9354dc",
   "outputs": [],
   "execution_count": 3
  },
  {
   "metadata": {
    "ExecuteTime": {
     "end_time": "2024-10-29T14:17:58.873069Z",
     "start_time": "2024-10-29T14:17:58.857941Z"
    }
   },
   "cell_type": "code",
   "source": [
    "def read_s2p_data(regex, path):\n",
    "    dfs = []#lista para ocncatenar todos os dicts de cada medição \n",
    "    for filename in os.listdir(path):\n",
    "        match = re.match(regex, filename)\n",
    "        if match:\n",
    "            #obtem informação do nome do arquivo\n",
    "            oil_name = \"TRAFO 44\"\n",
    "            measurement_number = int(match.group(1))\n",
    "            \n",
    "            #carrega arquivo\n",
    "            path_to_oil = os.path.join(path, filename)\n",
    "            s2p_file = rf.Network(path_to_oil)\n",
    "            \n",
    "            #extrai frequência e parâmetros S do objeto Network\n",
    "            frequency = s2p_file.f\n",
    "            s_parameters = s2p_file.s_db\n",
    "            \n",
    "            #Dataframe com informações do objeto Network\n",
    "            individual_oil_dict = {\n",
    "                'OIL NAME': oil_name,\n",
    "                'MEASUREMENT NUMBER': measurement_number,\n",
    "                'FREQUENCY (MHZ)':frequency/1000000,\n",
    "                'S11 (db)' : s_parameters[:,0,0],\n",
    "                'S21 (db)' : s_parameters[:,1,0],\n",
    "                'S12 (db)' : s_parameters[:,0,1],\n",
    "                'S22 (db)' : s_parameters[:,1,1],\n",
    "            }\n",
    "            df = pd.DataFrame.from_dict(individual_oil_dict)\n",
    "            dfs.append(df)\n",
    "            \n",
    "    dataframe = pd.concat(dfs, ignore_index=True)\n",
    "    return dataframe"
   ],
   "id": "bf11a9b51417b9b8",
   "outputs": [],
   "execution_count": 4
  },
  {
   "metadata": {},
   "cell_type": "markdown",
   "source": "#### Read Dataframes",
   "id": "383cb83e11babedf"
  },
  {
   "metadata": {
    "ExecuteTime": {
     "end_time": "2024-10-29T14:17:59.030181Z",
     "start_time": "2024-10-29T14:17:58.881048Z"
    }
   },
   "cell_type": "code",
   "source": "df_mineral = read_s2p_data(regex, s2ps_path)",
   "id": "f6f165c36a0897e4",
   "outputs": [],
   "execution_count": 5
  },
  {
   "metadata": {
    "ExecuteTime": {
     "end_time": "2024-10-29T14:17:59.062928Z",
     "start_time": "2024-10-29T14:17:59.045982Z"
    }
   },
   "cell_type": "code",
   "source": "df_mineral.info",
   "id": "75ca2723a2976681",
   "outputs": [
    {
     "data": {
      "text/plain": [
       "<bound method DataFrame.info of        OIL NAME  MEASUREMENT NUMBER  FREQUENCY (MHZ)  S11 (db)  S21 (db)  \\\n",
       "0      TRAFO 44                   1       110.000000 -0.932214 -78.45488   \n",
       "1      TRAFO 44                   1       110.002000 -0.933999 -78.86480   \n",
       "2      TRAFO 44                   1       110.004000 -0.933206 -77.32688   \n",
       "3      TRAFO 44                   1       110.006001 -0.934983 -78.64076   \n",
       "4      TRAFO 44                   1       110.008001 -0.934740 -80.71636   \n",
       "...         ...                 ...              ...       ...       ...   \n",
       "29995  TRAFO 44                   3       129.991999 -1.267004 -69.87478   \n",
       "29996  TRAFO 44                   3       129.993999 -1.268708 -69.31310   \n",
       "29997  TRAFO 44                   3       129.996000 -1.269654 -69.27567   \n",
       "29998  TRAFO 44                   3       129.998000 -1.269770 -67.58872   \n",
       "29999  TRAFO 44                   3       130.000000 -1.268233 -67.16007   \n",
       "\n",
       "       S12 (db)  S22 (db)  \n",
       "0     -77.12537 -1.131002  \n",
       "1     -77.43667 -1.131259  \n",
       "2     -77.57406 -1.128809  \n",
       "3     -81.37931 -1.127602  \n",
       "4     -80.73625 -1.130677  \n",
       "...         ...       ...  \n",
       "29995 -70.85699 -1.521468  \n",
       "29996 -68.21842 -1.522089  \n",
       "29997 -68.65439 -1.522688  \n",
       "29998 -69.32427 -1.523252  \n",
       "29999 -68.18047 -1.519518  \n",
       "\n",
       "[30000 rows x 7 columns]>"
      ]
     },
     "execution_count": 6,
     "metadata": {},
     "output_type": "execute_result"
    }
   ],
   "execution_count": 6
  },
  {
   "metadata": {
    "ExecuteTime": {
     "end_time": "2024-10-29T14:17:59.086884Z",
     "start_time": "2024-10-29T14:17:59.074299Z"
    }
   },
   "cell_type": "code",
   "source": [
    "#assegura somente óleo de girassol lido\n",
    "for name in df_mineral[\"OIL NAME\"]:\n",
    "    if name != \"TRAFO 44\":\n",
    "        print(\"Diferente de TRAFO 44\")"
   ],
   "id": "2642571febd29b76",
   "outputs": [],
   "execution_count": 7
  },
  {
   "metadata": {
    "ExecuteTime": {
     "end_time": "2024-10-29T14:17:59.289310Z",
     "start_time": "2024-10-29T14:17:59.099353Z"
    }
   },
   "cell_type": "code",
   "source": [
    "#cria .csv caso precise no futuro.\n",
    "path_save_csv = os.path.join(script_directory,'..','..', 'oil_data','oil_data','CSVs')\n",
    "if not os.path.exists(path_save_csv):\n",
    "   os.makedirs(path_save_csv)\n",
    "df_mineral.to_csv(path_save_csv + '/TRAFO_44_measurements.csv')"
   ],
   "id": "efa52a6edcc00df7",
   "outputs": [],
   "execution_count": 8
  },
  {
   "metadata": {
    "ExecuteTime": {
     "end_time": "2024-10-29T14:17:59.311771Z",
     "start_time": "2024-10-29T14:17:59.306102Z"
    }
   },
   "cell_type": "code",
   "source": [
    "def average_measurements(dataframe):\n",
    "    #agrupa valores por frequência e calcula média do que interessa\n",
    "    return dataframe.groupby('FREQUENCY (MHZ)', as_index=False)['S21 (db)'].mean()"
   ],
   "id": "715ba63364ad15be",
   "outputs": [],
   "execution_count": 9
  },
  {
   "metadata": {
    "ExecuteTime": {
     "end_time": "2024-10-29T14:17:59.340239Z",
     "start_time": "2024-10-29T14:17:59.329271Z"
    }
   },
   "cell_type": "code",
   "source": "df_TRAFO_44_s21 = average_measurements(df_mineral)",
   "id": "297aaa76ab2db707",
   "outputs": [],
   "execution_count": 10
  },
  {
   "metadata": {
    "ExecuteTime": {
     "end_time": "2024-10-29T14:17:59.370270Z",
     "start_time": "2024-10-29T14:17:59.355005Z"
    }
   },
   "cell_type": "code",
   "source": "df_TRAFO_44_s21.info\n",
   "id": "9ddeac11d9505600",
   "outputs": [
    {
     "data": {
      "text/plain": [
       "<bound method DataFrame.info of       FREQUENCY (MHZ)   S21 (db)\n",
       "0          110.000000 -82.068840\n",
       "1          110.002000 -76.808343\n",
       "2          110.004000 -78.968813\n",
       "3          110.006001 -81.446937\n",
       "4          110.008001 -79.061737\n",
       "...               ...        ...\n",
       "9995       129.991999 -69.576893\n",
       "9996       129.993999 -69.541777\n",
       "9997       129.996000 -69.118643\n",
       "9998       129.998000 -67.934313\n",
       "9999       130.000000 -67.406780\n",
       "\n",
       "[10000 rows x 2 columns]>"
      ]
     },
     "execution_count": 11,
     "metadata": {},
     "output_type": "execute_result"
    }
   ],
   "execution_count": 11
  },
  {
   "metadata": {
    "ExecuteTime": {
     "end_time": "2024-10-29T14:17:59.424768Z",
     "start_time": "2024-10-29T14:17:59.389510Z"
    }
   },
   "cell_type": "code",
   "source": [
    "#cria .csv caso precise no futuro.\n",
    "path_save_csv_processed = os.path.join(script_directory,'..','..', 'oil_data','oil_data','CSVs','processed')\n",
    "if not os.path.exists(path_save_csv_processed):\n",
    "   os.makedirs(path_save_csv_processed)\n",
    "df_TRAFO_44_s21.to_csv(path_save_csv_processed + '/TRAFO_44_measurements_processed.csv')"
   ],
   "id": "ca1f371ae383db4b",
   "outputs": [],
   "execution_count": 12
  }
 ],
 "metadata": {
  "kernelspec": {
   "display_name": "Python 3",
   "language": "python",
   "name": "python3"
  },
  "language_info": {
   "codemirror_mode": {
    "name": "ipython",
    "version": 2
   },
   "file_extension": ".py",
   "mimetype": "text/x-python",
   "name": "python",
   "nbconvert_exporter": "python",
   "pygments_lexer": "ipython2",
   "version": "2.7.6"
  }
 },
 "nbformat": 4,
 "nbformat_minor": 5
}
